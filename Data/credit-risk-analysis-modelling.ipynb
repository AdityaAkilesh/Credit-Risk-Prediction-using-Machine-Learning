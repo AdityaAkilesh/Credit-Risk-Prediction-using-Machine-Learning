{
 "cells": [
  {
   "cell_type": "markdown",
   "id": "63eaf42b",
   "metadata": {
    "papermill": {
     "duration": 0.010975,
     "end_time": "2025-06-03T17:03:35.405200",
     "exception": false,
     "start_time": "2025-06-03T17:03:35.394225",
     "status": "completed"
    },
    "tags": []
   },
   "source": [
    "In this project, we will carry out data analysis of a Credit Risk Dataset. We will perform a comprehensive anaylsis including SQL Data Extraction and Insights along with Predictive Modelling and Deployment."
   ]
  },
  {
   "cell_type": "markdown",
   "id": "cc29a466",
   "metadata": {
    "papermill": {
     "duration": 0.009974,
     "end_time": "2025-06-03T17:03:35.426368",
     "exception": false,
     "start_time": "2025-06-03T17:03:35.416394",
     "status": "completed"
    },
    "tags": []
   },
   "source": [
    "# SQL Data Extraction"
   ]
  },
  {
   "cell_type": "markdown",
   "id": "a68d15f7",
   "metadata": {
    "papermill": {
     "duration": 0.010138,
     "end_time": "2025-06-03T17:03:35.447621",
     "exception": false,
     "start_time": "2025-06-03T17:03:35.437483",
     "status": "completed"
    },
    "tags": []
   },
   "source": [
    "## Downloading the dataset"
   ]
  },
  {
   "cell_type": "code",
   "execution_count": 1,
   "id": "4305d70e",
   "metadata": {
    "_cell_guid": "b1076dfc-b9ad-4769-8c92-a6c4dae69d19",
    "_uuid": "8f2839f25d086af736a60e9eeb907d3b93b6e0e5",
    "execution": {
     "iopub.execute_input": "2025-06-03T17:03:35.470165Z",
     "iopub.status.busy": "2025-06-03T17:03:35.469811Z",
     "iopub.status.idle": "2025-06-03T17:03:36.096618Z",
     "shell.execute_reply": "2025-06-03T17:03:36.095352Z"
    },
    "papermill": {
     "duration": 0.640375,
     "end_time": "2025-06-03T17:03:36.098389",
     "exception": false,
     "start_time": "2025-06-03T17:03:35.458014",
     "status": "completed"
    },
    "tags": []
   },
   "outputs": [
    {
     "name": "stdout",
     "output_type": "stream",
     "text": [
      "Path to dataset files: /kaggle/input/credit-risk-dataset\n"
     ]
    }
   ],
   "source": [
    "import kagglehub\n",
    "\n",
    "# Download latest version\n",
    "path = kagglehub.dataset_download(\"laotse/credit-risk-dataset\")\n",
    "\n",
    "print(\"Path to dataset files:\", path)"
   ]
  },
  {
   "cell_type": "markdown",
   "id": "3a537180",
   "metadata": {
    "papermill": {
     "duration": 0.010161,
     "end_time": "2025-06-03T17:03:36.119192",
     "exception": false,
     "start_time": "2025-06-03T17:03:36.109031",
     "status": "completed"
    },
    "tags": []
   },
   "source": [
    "## Setting up the Database"
   ]
  },
  {
   "cell_type": "code",
   "execution_count": 2,
   "id": "be939784",
   "metadata": {
    "execution": {
     "iopub.execute_input": "2025-06-03T17:03:36.141920Z",
     "iopub.status.busy": "2025-06-03T17:03:36.141553Z",
     "iopub.status.idle": "2025-06-03T17:03:37.394149Z",
     "shell.execute_reply": "2025-06-03T17:03:37.392873Z"
    },
    "papermill": {
     "duration": 1.265784,
     "end_time": "2025-06-03T17:03:37.396054",
     "exception": false,
     "start_time": "2025-06-03T17:03:36.130270",
     "status": "completed"
    },
    "tags": []
   },
   "outputs": [
    {
     "data": {
      "text/plain": [
       "32581"
      ]
     },
     "execution_count": 2,
     "metadata": {},
     "output_type": "execute_result"
    }
   ],
   "source": [
    "import pandas as pd\n",
    "import sqlite3\n",
    "\n",
    "# Load dataset\n",
    "df = pd.read_csv(\"/kaggle/input/credit-risk-dataset/credit_risk_dataset.csv\")  \n",
    "\n",
    "# Create a SQLite connection\n",
    "conn = sqlite3.connect(':memory:')  # Uses an in-memory database\n",
    "df.to_sql('credit_risk', conn, index=False, if_exists='replace')  # Load data into SQL"
   ]
  },
  {
   "cell_type": "code",
   "execution_count": 3,
   "id": "335b447b",
   "metadata": {
    "execution": {
     "iopub.execute_input": "2025-06-03T17:03:37.418600Z",
     "iopub.status.busy": "2025-06-03T17:03:37.418157Z",
     "iopub.status.idle": "2025-06-03T17:03:37.442240Z",
     "shell.execute_reply": "2025-06-03T17:03:37.441193Z"
    },
    "papermill": {
     "duration": 0.037326,
     "end_time": "2025-06-03T17:03:37.444009",
     "exception": false,
     "start_time": "2025-06-03T17:03:37.406683",
     "status": "completed"
    },
    "tags": []
   },
   "outputs": [
    {
     "data": {
      "text/html": [
       "<div>\n",
       "<style scoped>\n",
       "    .dataframe tbody tr th:only-of-type {\n",
       "        vertical-align: middle;\n",
       "    }\n",
       "\n",
       "    .dataframe tbody tr th {\n",
       "        vertical-align: top;\n",
       "    }\n",
       "\n",
       "    .dataframe thead th {\n",
       "        text-align: right;\n",
       "    }\n",
       "</style>\n",
       "<table border=\"1\" class=\"dataframe\">\n",
       "  <thead>\n",
       "    <tr style=\"text-align: right;\">\n",
       "      <th></th>\n",
       "      <th>person_age</th>\n",
       "      <th>person_income</th>\n",
       "      <th>person_home_ownership</th>\n",
       "      <th>person_emp_length</th>\n",
       "      <th>loan_intent</th>\n",
       "      <th>loan_grade</th>\n",
       "      <th>loan_amnt</th>\n",
       "      <th>loan_int_rate</th>\n",
       "      <th>loan_status</th>\n",
       "      <th>loan_percent_income</th>\n",
       "      <th>cb_person_default_on_file</th>\n",
       "      <th>cb_person_cred_hist_length</th>\n",
       "    </tr>\n",
       "  </thead>\n",
       "  <tbody>\n",
       "    <tr>\n",
       "      <th>0</th>\n",
       "      <td>22</td>\n",
       "      <td>59000</td>\n",
       "      <td>RENT</td>\n",
       "      <td>123.0</td>\n",
       "      <td>PERSONAL</td>\n",
       "      <td>D</td>\n",
       "      <td>35000</td>\n",
       "      <td>16.02</td>\n",
       "      <td>1</td>\n",
       "      <td>0.59</td>\n",
       "      <td>Y</td>\n",
       "      <td>3</td>\n",
       "    </tr>\n",
       "    <tr>\n",
       "      <th>1</th>\n",
       "      <td>21</td>\n",
       "      <td>9600</td>\n",
       "      <td>OWN</td>\n",
       "      <td>5.0</td>\n",
       "      <td>EDUCATION</td>\n",
       "      <td>B</td>\n",
       "      <td>1000</td>\n",
       "      <td>11.14</td>\n",
       "      <td>0</td>\n",
       "      <td>0.10</td>\n",
       "      <td>N</td>\n",
       "      <td>2</td>\n",
       "    </tr>\n",
       "    <tr>\n",
       "      <th>2</th>\n",
       "      <td>25</td>\n",
       "      <td>9600</td>\n",
       "      <td>MORTGAGE</td>\n",
       "      <td>1.0</td>\n",
       "      <td>MEDICAL</td>\n",
       "      <td>C</td>\n",
       "      <td>5500</td>\n",
       "      <td>12.87</td>\n",
       "      <td>1</td>\n",
       "      <td>0.57</td>\n",
       "      <td>N</td>\n",
       "      <td>3</td>\n",
       "    </tr>\n",
       "    <tr>\n",
       "      <th>3</th>\n",
       "      <td>23</td>\n",
       "      <td>65500</td>\n",
       "      <td>RENT</td>\n",
       "      <td>4.0</td>\n",
       "      <td>MEDICAL</td>\n",
       "      <td>C</td>\n",
       "      <td>35000</td>\n",
       "      <td>15.23</td>\n",
       "      <td>1</td>\n",
       "      <td>0.53</td>\n",
       "      <td>N</td>\n",
       "      <td>2</td>\n",
       "    </tr>\n",
       "    <tr>\n",
       "      <th>4</th>\n",
       "      <td>24</td>\n",
       "      <td>54400</td>\n",
       "      <td>RENT</td>\n",
       "      <td>8.0</td>\n",
       "      <td>MEDICAL</td>\n",
       "      <td>C</td>\n",
       "      <td>35000</td>\n",
       "      <td>14.27</td>\n",
       "      <td>1</td>\n",
       "      <td>0.55</td>\n",
       "      <td>Y</td>\n",
       "      <td>4</td>\n",
       "    </tr>\n",
       "  </tbody>\n",
       "</table>\n",
       "</div>"
      ],
      "text/plain": [
       "   person_age  person_income person_home_ownership  person_emp_length  \\\n",
       "0          22          59000                  RENT              123.0   \n",
       "1          21           9600                   OWN                5.0   \n",
       "2          25           9600              MORTGAGE                1.0   \n",
       "3          23          65500                  RENT                4.0   \n",
       "4          24          54400                  RENT                8.0   \n",
       "\n",
       "  loan_intent loan_grade  loan_amnt  loan_int_rate  loan_status  \\\n",
       "0    PERSONAL          D      35000          16.02            1   \n",
       "1   EDUCATION          B       1000          11.14            0   \n",
       "2     MEDICAL          C       5500          12.87            1   \n",
       "3     MEDICAL          C      35000          15.23            1   \n",
       "4     MEDICAL          C      35000          14.27            1   \n",
       "\n",
       "   loan_percent_income cb_person_default_on_file  cb_person_cred_hist_length  \n",
       "0                 0.59                         Y                           3  \n",
       "1                 0.10                         N                           2  \n",
       "2                 0.57                         N                           3  \n",
       "3                 0.53                         N                           2  \n",
       "4                 0.55                         Y                           4  "
      ]
     },
     "execution_count": 3,
     "metadata": {},
     "output_type": "execute_result"
    }
   ],
   "source": [
    "df.head()"
   ]
  },
  {
   "cell_type": "markdown",
   "id": "c23cd5bc",
   "metadata": {
    "papermill": {
     "duration": 0.01084,
     "end_time": "2025-06-03T17:03:37.465747",
     "exception": false,
     "start_time": "2025-06-03T17:03:37.454907",
     "status": "completed"
    },
    "tags": []
   },
   "source": [
    "#### As we can see, the dataset contains the target variable of loan_status along with the demographic data about the borrower and his/her credit history."
   ]
  },
  {
   "cell_type": "markdown",
   "id": "9d767751",
   "metadata": {
    "papermill": {
     "duration": 0.010201,
     "end_time": "2025-06-03T17:03:37.486360",
     "exception": false,
     "start_time": "2025-06-03T17:03:37.476159",
     "status": "completed"
    },
    "tags": []
   },
   "source": [
    "## SQL Query Insights"
   ]
  },
  {
   "cell_type": "markdown",
   "id": "bc97170c",
   "metadata": {
    "papermill": {
     "duration": 0.010064,
     "end_time": "2025-06-03T17:03:37.506957",
     "exception": false,
     "start_time": "2025-06-03T17:03:37.496893",
     "status": "completed"
    },
    "tags": []
   },
   "source": [
    "### Question 1 : What is the average loan amount and interest rate for each loan category?"
   ]
  },
  {
   "cell_type": "code",
   "execution_count": 4,
   "id": "d3af9dd2",
   "metadata": {
    "execution": {
     "iopub.execute_input": "2025-06-03T17:03:37.529626Z",
     "iopub.status.busy": "2025-06-03T17:03:37.529152Z",
     "iopub.status.idle": "2025-06-03T17:03:37.555786Z",
     "shell.execute_reply": "2025-06-03T17:03:37.554231Z"
    },
    "papermill": {
     "duration": 0.040751,
     "end_time": "2025-06-03T17:03:37.558174",
     "exception": false,
     "start_time": "2025-06-03T17:03:37.517423",
     "status": "completed"
    },
    "tags": []
   },
   "outputs": [
    {
     "name": "stdout",
     "output_type": "stream",
     "text": [
      "   Average Loan  Average Interest Rate Category\n",
      "0   8539.273453               7.327651        A\n",
      "1   9995.483686              10.995555        B\n",
      "2   9213.862651              13.463542        C\n",
      "3  10849.241589              15.361448        D\n",
      "4  12915.845436              17.009455        E\n",
      "5  14717.323651              18.609159        F\n",
      "6  17195.703125              20.251525        G\n"
     ]
    }
   ],
   "source": [
    "query = \"\"\"\n",
    "SELECT \n",
    "    AVG(loan_amnt) AS \"Average Loan\", \n",
    "    AVG(loan_int_rate) AS \"Average Interest Rate\", \n",
    "    loan_grade AS \"Category\"\n",
    "FROM credit_risk\n",
    "GROUP BY loan_grade;\n",
    "\"\"\"\n",
    "\n",
    "# Run SQL query\n",
    "result = pd.read_sql_query(query, conn)\n",
    "print(result)"
   ]
  },
  {
   "cell_type": "markdown",
   "id": "16894f7c",
   "metadata": {
    "papermill": {
     "duration": 0.010515,
     "end_time": "2025-06-03T17:03:37.580208",
     "exception": false,
     "start_time": "2025-06-03T17:03:37.569693",
     "status": "completed"
    },
    "tags": []
   },
   "source": [
    "**Average interest rate increase as we go from the best to worst loan category. Interestingly, the average loan amount also shows an increasing pattern across the categories.**"
   ]
  },
  {
   "cell_type": "markdown",
   "id": "7253fad8",
   "metadata": {
    "papermill": {
     "duration": 0.010344,
     "end_time": "2025-06-03T17:03:37.601552",
     "exception": false,
     "start_time": "2025-06-03T17:03:37.591208",
     "status": "completed"
    },
    "tags": []
   },
   "source": [
    "### Question 2 : Find the top 10 borrowers with the highest credit history length who have defaulted."
   ]
  },
  {
   "cell_type": "code",
   "execution_count": 5,
   "id": "56f4acca",
   "metadata": {
    "execution": {
     "iopub.execute_input": "2025-06-03T17:03:37.624397Z",
     "iopub.status.busy": "2025-06-03T17:03:37.624073Z",
     "iopub.status.idle": "2025-06-03T17:03:37.643170Z",
     "shell.execute_reply": "2025-06-03T17:03:37.641812Z"
    },
    "papermill": {
     "duration": 0.032748,
     "end_time": "2025-06-03T17:03:37.645055",
     "exception": false,
     "start_time": "2025-06-03T17:03:37.612307",
     "status": "completed"
    },
    "tags": []
   },
   "outputs": [
    {
     "name": "stdout",
     "output_type": "stream",
     "text": [
      "   person_age  person_income person_home_ownership  person_emp_length  \\\n",
      "0          55          50000                  RENT                2.0   \n",
      "1          51          37200                  RENT                4.0   \n",
      "2          53          34000              MORTGAGE                0.0   \n",
      "3          55          34000                  RENT                0.0   \n",
      "4          52         163000              MORTGAGE                9.0   \n",
      "5          62          76500                  RENT                0.0   \n",
      "6          54          33600                  RENT                0.0   \n",
      "7          66          40000                  RENT                2.0   \n",
      "8          52          36000                  RENT                8.0   \n",
      "9          55          78000              MORTGAGE                2.0   \n",
      "\n",
      "         loan_intent loan_grade  loan_amnt  loan_int_rate  loan_status  \\\n",
      "0    HOMEIMPROVEMENT          A      20000           7.51            1   \n",
      "1            MEDICAL          B       3000          10.62            1   \n",
      "2            MEDICAL          B      10000          10.39            1   \n",
      "3  DEBTCONSOLIDATION          A      12000           6.92            1   \n",
      "4           PERSONAL          D      25000          14.11            1   \n",
      "5          EDUCATION          D      20000          16.77            1   \n",
      "6  DEBTCONSOLIDATION          B       1000          10.65            1   \n",
      "7          EDUCATION          E       7000          15.68            1   \n",
      "8  DEBTCONSOLIDATION          B      11200          12.18            1   \n",
      "9  DEBTCONSOLIDATION          D       8000            NaN            1   \n",
      "\n",
      "   loan_percent_income cb_person_default_on_file  cb_person_cred_hist_length  \n",
      "0                 0.40                         N                          30  \n",
      "1                 0.08                         N                          30  \n",
      "2                 0.29                         N                          30  \n",
      "3                 0.35                         N                          30  \n",
      "4                 0.15                         N                          30  \n",
      "5                 0.26                         Y                          29  \n",
      "6                 0.03                         N                          29  \n",
      "7                 0.17                         Y                          29  \n",
      "8                 0.31                         N                          29  \n",
      "9                 0.10                         N                          29  \n"
     ]
    },
    {
     "name": "stderr",
     "output_type": "stream",
     "text": [
      "/usr/local/lib/python3.10/dist-packages/pandas/io/formats/format.py:1458: RuntimeWarning: invalid value encountered in greater\n",
      "  has_large_values = (abs_vals > 1e6).any()\n",
      "/usr/local/lib/python3.10/dist-packages/pandas/io/formats/format.py:1459: RuntimeWarning: invalid value encountered in less\n",
      "  has_small_values = ((abs_vals < 10 ** (-self.digits)) & (abs_vals > 0)).any()\n",
      "/usr/local/lib/python3.10/dist-packages/pandas/io/formats/format.py:1459: RuntimeWarning: invalid value encountered in greater\n",
      "  has_small_values = ((abs_vals < 10 ** (-self.digits)) & (abs_vals > 0)).any()\n"
     ]
    }
   ],
   "source": [
    "query = \"\"\"\n",
    "SELECT *\n",
    "FROM credit_risk\n",
    "WHERE loan_status = 1\n",
    "ORDER BY cb_person_cred_hist_length DESC\n",
    "LIMIT 10;\n",
    "\"\"\"\n",
    "\n",
    "# Run SQL query\n",
    "result = pd.read_sql_query(query, conn)\n",
    "print(result)"
   ]
  },
  {
   "cell_type": "markdown",
   "id": "b5e6a83f",
   "metadata": {
    "papermill": {
     "duration": 0.010403,
     "end_time": "2025-06-03T17:03:37.666610",
     "exception": false,
     "start_time": "2025-06-03T17:03:37.656207",
     "status": "completed"
    },
    "tags": []
   },
   "source": [
    "**Highest credit history length is around 30 months. Interestingly, all the people who have defaulted have age on the higher side (50+). Also, most them did not have a prior default.**"
   ]
  },
  {
   "cell_type": "markdown",
   "id": "8cfc7042",
   "metadata": {
    "papermill": {
     "duration": 0.010318,
     "end_time": "2025-06-03T17:03:37.687968",
     "exception": false,
     "start_time": "2025-06-03T17:03:37.677650",
     "status": "completed"
    },
    "tags": []
   },
   "source": [
    "### Question 3 : Find the top 5 borrowers with the highest loan amounts within each loan intent category"
   ]
  },
  {
   "cell_type": "code",
   "execution_count": 6,
   "id": "692b2761",
   "metadata": {
    "execution": {
     "iopub.execute_input": "2025-06-03T17:03:37.710508Z",
     "iopub.status.busy": "2025-06-03T17:03:37.710149Z",
     "iopub.status.idle": "2025-06-03T17:03:37.844984Z",
     "shell.execute_reply": "2025-06-03T17:03:37.843767Z"
    },
    "papermill": {
     "duration": 0.148791,
     "end_time": "2025-06-03T17:03:37.847439",
     "exception": false,
     "start_time": "2025-06-03T17:03:37.698648",
     "status": "completed"
    },
    "tags": []
   },
   "outputs": [
    {
     "name": "stdout",
     "output_type": "stream",
     "text": [
      "    person_age  person_income person_home_ownership  person_emp_length  \\\n",
      "0           23         113000                  RENT                8.0   \n",
      "1           24          74000                   OWN                8.0   \n",
      "2           24          95000              MORTGAGE                3.0   \n",
      "3           25          96000              MORTGAGE                5.0   \n",
      "4           23         112800              MORTGAGE                3.0   \n",
      "5           26          77100                  RENT                8.0   \n",
      "6           26         108160                  RENT                4.0   \n",
      "7           23         115000                  RENT                2.0   \n",
      "8           23         120000                  RENT                0.0   \n",
      "9           26         213000              MORTGAGE                6.0   \n",
      "10          24          72400              MORTGAGE                4.0   \n",
      "11          24          96000              MORTGAGE                8.0   \n",
      "12          25         100505                   OWN                9.0   \n",
      "13          25         130000              MORTGAGE                9.0   \n",
      "14          24         151000              MORTGAGE                8.0   \n",
      "15          23          65500                  RENT                4.0   \n",
      "16          24          54400                  RENT                8.0   \n",
      "17          24          78956                  RENT                5.0   \n",
      "18          23          92111                  RENT                7.0   \n",
      "19          25         230000              MORTGAGE                5.0   \n",
      "20          22          59000                  RENT              123.0   \n",
      "21          24          83000                  RENT                8.0   \n",
      "22          23         277000                   OWN                3.0   \n",
      "23          25         168000              MORTGAGE                2.0   \n",
      "24          23         160000              MORTGAGE                5.0   \n",
      "25          22          85000                  RENT                6.0   \n",
      "26          23          95000                  RENT                2.0   \n",
      "27          25         162500                  RENT                2.0   \n",
      "28          26          70000              MORTGAGE                9.0   \n",
      "29          22          79000              MORTGAGE                3.0   \n",
      "\n",
      "          loan_intent loan_grade  loan_amnt  loan_int_rate  loan_status  \\\n",
      "0   DEBTCONSOLIDATION          D      35000          18.25            1   \n",
      "1   DEBTCONSOLIDATION          G      35000          20.11            1   \n",
      "2   DEBTCONSOLIDATION          B      35000          11.99            0   \n",
      "3   DEBTCONSOLIDATION          A      35000           7.49            0   \n",
      "4   DEBTCONSOLIDATION          B      35000            NaN            0   \n",
      "5           EDUCATION          B      35000          12.42            1   \n",
      "6           EDUCATION          E      35000          18.39            1   \n",
      "7           EDUCATION          A      35000           7.90            0   \n",
      "8           EDUCATION          A      35000           7.90            0   \n",
      "9           EDUCATION          B      35000          10.65            1   \n",
      "10    HOMEIMPROVEMENT          C      35000          13.99            0   \n",
      "11    HOMEIMPROVEMENT          A      35000           7.90            0   \n",
      "12    HOMEIMPROVEMENT          B      35000          11.99            0   \n",
      "13    HOMEIMPROVEMENT          B      35000            NaN            0   \n",
      "14    HOMEIMPROVEMENT          C      35000          14.27            0   \n",
      "15            MEDICAL          C      35000          15.23            1   \n",
      "16            MEDICAL          C      35000          14.27            1   \n",
      "17            MEDICAL          B      35000          11.11            1   \n",
      "18            MEDICAL          F      35000          20.25            1   \n",
      "19            MEDICAL          C      35000          13.99            0   \n",
      "20           PERSONAL          D      35000          16.02            1   \n",
      "21           PERSONAL          A      35000           8.90            1   \n",
      "22           PERSONAL          A      35000            NaN            0   \n",
      "23           PERSONAL          B      35000          10.65            0   \n",
      "24           PERSONAL          A      35000           7.66            0   \n",
      "25            VENTURE          B      35000          10.37            1   \n",
      "26            VENTURE          A      35000           7.90            1   \n",
      "27            VENTURE          A      35000           7.49            0   \n",
      "28            VENTURE          A      35000           7.90            0   \n",
      "29            VENTURE          C      35000          13.80            0   \n",
      "\n",
      "    loan_percent_income cb_person_default_on_file  cb_person_cred_hist_length  \\\n",
      "0                  0.31                         N                           4   \n",
      "1                  0.47                         N                           3   \n",
      "2                  0.37                         N                           2   \n",
      "3                  0.36                         N                           3   \n",
      "4                  0.31                         N                           4   \n",
      "5                  0.45                         N                           3   \n",
      "6                  0.32                         N                           4   \n",
      "7                  0.30                         N                           4   \n",
      "8                  0.29                         N                           4   \n",
      "9                  0.16                         N                           2   \n",
      "10                 0.48                         N                           4   \n",
      "11                 0.36                         N                           4   \n",
      "12                 0.35                         N                           3   \n",
      "13                 0.27                         N                           3   \n",
      "14                 0.23                         Y                           2   \n",
      "15                 0.53                         N                           2   \n",
      "16                 0.55                         Y                           4   \n",
      "17                 0.44                         N                           4   \n",
      "18                 0.32                         N                           4   \n",
      "19                 0.15                         N                           4   \n",
      "20                 0.59                         Y                           3   \n",
      "21                 0.42                         N                           2   \n",
      "22                 0.13                         N                           4   \n",
      "23                 0.21                         N                           2   \n",
      "24                 0.22                         N                           2   \n",
      "25                 0.41                         N                           4   \n",
      "26                 0.37                         N                           2   \n",
      "27                 0.22                         N                           4   \n",
      "28                 0.50                         N                           2   \n",
      "29                 0.44                         Y                           2   \n",
      "\n",
      "    rank  \n",
      "0      1  \n",
      "1      2  \n",
      "2      3  \n",
      "3      4  \n",
      "4      5  \n",
      "5      1  \n",
      "6      2  \n",
      "7      3  \n",
      "8      4  \n",
      "9      5  \n",
      "10     1  \n",
      "11     2  \n",
      "12     3  \n",
      "13     4  \n",
      "14     5  \n",
      "15     1  \n",
      "16     2  \n",
      "17     3  \n",
      "18     4  \n",
      "19     5  \n",
      "20     1  \n",
      "21     2  \n",
      "22     3  \n",
      "23     4  \n",
      "24     5  \n",
      "25     1  \n",
      "26     2  \n",
      "27     3  \n",
      "28     4  \n",
      "29     5  \n"
     ]
    },
    {
     "name": "stderr",
     "output_type": "stream",
     "text": [
      "/usr/local/lib/python3.10/dist-packages/pandas/io/formats/format.py:1458: RuntimeWarning: invalid value encountered in greater\n",
      "  has_large_values = (abs_vals > 1e6).any()\n",
      "/usr/local/lib/python3.10/dist-packages/pandas/io/formats/format.py:1459: RuntimeWarning: invalid value encountered in less\n",
      "  has_small_values = ((abs_vals < 10 ** (-self.digits)) & (abs_vals > 0)).any()\n",
      "/usr/local/lib/python3.10/dist-packages/pandas/io/formats/format.py:1459: RuntimeWarning: invalid value encountered in greater\n",
      "  has_small_values = ((abs_vals < 10 ** (-self.digits)) & (abs_vals > 0)).any()\n"
     ]
    }
   ],
   "source": [
    "query = \"\"\"\n",
    "SELECT *\n",
    "FROM (\n",
    "SELECT *, ROW_NUMBER() OVER (PARTITION BY loan_intent ORDER BY loan_amnt DESC) AS rank\n",
    "FROM credit_risk)\n",
    "ranked\n",
    "WHERE rank<=5;\n",
    "\"\"\"\n",
    "\n",
    "# Run SQL query\n",
    "result = pd.read_sql_query(query, conn)\n",
    "print(result)"
   ]
  },
  {
   "cell_type": "markdown",
   "id": "4672954a",
   "metadata": {
    "papermill": {
     "duration": 0.01061,
     "end_time": "2025-06-03T17:03:37.869336",
     "exception": false,
     "start_time": "2025-06-03T17:03:37.858726",
     "status": "completed"
    },
    "tags": []
   },
   "source": [
    "**Top 5 borrowers in each loan intent category are young people (age < 30) with loan amount of 35000.** "
   ]
  },
  {
   "cell_type": "markdown",
   "id": "e93531e5",
   "metadata": {
    "papermill": {
     "duration": 0.010764,
     "end_time": "2025-06-03T17:03:37.891126",
     "exception": false,
     "start_time": "2025-06-03T17:03:37.880362",
     "status": "completed"
    },
    "tags": []
   },
   "source": [
    "### Question 4 : List all borrowers whose loan amount is higher than the average loan amount of defaulted borrowers"
   ]
  },
  {
   "cell_type": "code",
   "execution_count": 7,
   "id": "a77d3dd0",
   "metadata": {
    "execution": {
     "iopub.execute_input": "2025-06-03T17:03:37.914248Z",
     "iopub.status.busy": "2025-06-03T17:03:37.913914Z",
     "iopub.status.idle": "2025-06-03T17:03:37.982759Z",
     "shell.execute_reply": "2025-06-03T17:03:37.981400Z"
    },
    "papermill": {
     "duration": 0.082624,
     "end_time": "2025-06-03T17:03:37.984676",
     "exception": false,
     "start_time": "2025-06-03T17:03:37.902052",
     "status": "completed"
    },
    "tags": []
   },
   "outputs": [
    {
     "name": "stdout",
     "output_type": "stream",
     "text": [
      "       person_age  person_income person_home_ownership  person_emp_length  \\\n",
      "0              22          59000                  RENT              123.0   \n",
      "1              23          65500                  RENT                4.0   \n",
      "2              24          54400                  RENT                8.0   \n",
      "3              26          77100                  RENT                8.0   \n",
      "4              24          78956                  RENT                5.0   \n",
      "...           ...            ...                   ...                ...   \n",
      "10633          60          45600                  RENT                1.0   \n",
      "10634          52          65004                  RENT                4.0   \n",
      "10635          54         120000              MORTGAGE                4.0   \n",
      "10636          65          76000                  RENT                3.0   \n",
      "10637          56         150000              MORTGAGE                5.0   \n",
      "\n",
      "           loan_intent loan_grade  loan_amnt  loan_int_rate  loan_status  \\\n",
      "0             PERSONAL          D      35000          16.02            1   \n",
      "1              MEDICAL          C      35000          15.23            1   \n",
      "2              MEDICAL          C      35000          14.27            1   \n",
      "3            EDUCATION          B      35000          12.42            1   \n",
      "4              MEDICAL          B      35000          11.11            1   \n",
      "...                ...        ...        ...            ...          ...   \n",
      "10633          VENTURE          B      20000          10.00            1   \n",
      "10634         PERSONAL          D      20000          15.58            1   \n",
      "10635         PERSONAL          A      17625           7.49            0   \n",
      "10636  HOMEIMPROVEMENT          B      35000          10.99            1   \n",
      "10637         PERSONAL          B      15000          11.48            0   \n",
      "\n",
      "       loan_percent_income cb_person_default_on_file  \\\n",
      "0                     0.59                         Y   \n",
      "1                     0.53                         N   \n",
      "2                     0.55                         Y   \n",
      "3                     0.45                         N   \n",
      "4                     0.44                         N   \n",
      "...                    ...                       ...   \n",
      "10633                 0.44                         N   \n",
      "10634                 0.31                         Y   \n",
      "10635                 0.15                         N   \n",
      "10636                 0.46                         N   \n",
      "10637                 0.10                         N   \n",
      "\n",
      "       cb_person_cred_hist_length  \n",
      "0                               3  \n",
      "1                               2  \n",
      "2                               4  \n",
      "3                               3  \n",
      "4                               4  \n",
      "...                           ...  \n",
      "10633                          26  \n",
      "10634                          19  \n",
      "10635                          19  \n",
      "10636                          28  \n",
      "10637                          26  \n",
      "\n",
      "[10638 rows x 12 columns]\n"
     ]
    }
   ],
   "source": [
    "query = \"\"\"\n",
    "SELECT *\n",
    "FROM credit_risk\n",
    "WHERE loan_amnt> (\n",
    "   SELECT AVG(loan_amnt)\n",
    "   FROM credit_risk\n",
    "   WHERE loan_status = 1);\n",
    "\"\"\"\n",
    "\n",
    "# Run SQL query\n",
    "result = pd.read_sql_query(query, conn)\n",
    "print(result)"
   ]
  },
  {
   "cell_type": "markdown",
   "id": "b3dca889",
   "metadata": {
    "papermill": {
     "duration": 0.010825,
     "end_time": "2025-06-03T17:03:38.006838",
     "exception": false,
     "start_time": "2025-06-03T17:03:37.996013",
     "status": "completed"
    },
    "tags": []
   },
   "source": [
    "**10638 (around 1/3 of the complete dataset) borrowers have loan amount higher than the average loan amount of defaulters.** "
   ]
  },
  {
   "cell_type": "markdown",
   "id": "a81eba58",
   "metadata": {
    "papermill": {
     "duration": 0.011199,
     "end_time": "2025-06-03T17:03:38.028996",
     "exception": false,
     "start_time": "2025-06-03T17:03:38.017797",
     "status": "completed"
    },
    "tags": []
   },
   "source": [
    "### Question 5 : Categorize borrowers as Low Risk, Medium Risk or High Risk based on their loan percent income."
   ]
  },
  {
   "cell_type": "code",
   "execution_count": 8,
   "id": "c1c2248c",
   "metadata": {
    "execution": {
     "iopub.execute_input": "2025-06-03T17:03:38.052448Z",
     "iopub.status.busy": "2025-06-03T17:03:38.052120Z",
     "iopub.status.idle": "2025-06-03T17:03:38.069871Z",
     "shell.execute_reply": "2025-06-03T17:03:38.068813Z"
    },
    "papermill": {
     "duration": 0.031898,
     "end_time": "2025-06-03T17:03:38.071922",
     "exception": false,
     "start_time": "2025-06-03T17:03:38.040024",
     "status": "completed"
    },
    "tags": []
   },
   "outputs": [
    {
     "name": "stdout",
     "output_type": "stream",
     "text": [
      "   Total Count  Minimum Rate  Maximum Rate  Average Rate  Standard_Deviation\n",
      "0        32581           0.0          0.83      0.170203             0.10678\n"
     ]
    }
   ],
   "source": [
    "query = \"\"\"\n",
    "SELECT \n",
    "    COUNT(loan_percent_income) AS \"Total Count\",\n",
    "    MIN(loan_percent_income) AS \"Minimum Rate\",\n",
    "    MAX(loan_percent_income) AS \"Maximum Rate\",\n",
    "    AVG(loan_percent_income) AS \"Average Rate\",\n",
    "    sqrt(AVG(loan_percent_income * loan_percent_income) - AVG(loan_percent_income) * AVG(loan_percent_income)) AS Standard_Deviation\n",
    "FROM credit_risk;\n",
    "\"\"\"\n",
    "\n",
    "# Run SQL query\n",
    "result = pd.read_sql_query(query, conn)\n",
    "print(result)"
   ]
  },
  {
   "cell_type": "code",
   "execution_count": 9,
   "id": "270bb5da",
   "metadata": {
    "execution": {
     "iopub.execute_input": "2025-06-03T17:03:38.097050Z",
     "iopub.status.busy": "2025-06-03T17:03:38.096651Z",
     "iopub.status.idle": "2025-06-03T17:03:38.284510Z",
     "shell.execute_reply": "2025-06-03T17:03:38.283020Z"
    },
    "papermill": {
     "duration": 0.202219,
     "end_time": "2025-06-03T17:03:38.286532",
     "exception": false,
     "start_time": "2025-06-03T17:03:38.084313",
     "status": "completed"
    },
    "tags": []
   },
   "outputs": [
    {
     "name": "stdout",
     "output_type": "stream",
     "text": [
      "       person_age  person_income person_home_ownership  person_emp_length  \\\n",
      "0              22          59000                  RENT              123.0   \n",
      "1              21           9600                   OWN                5.0   \n",
      "2              25           9600              MORTGAGE                1.0   \n",
      "3              23          65500                  RENT                4.0   \n",
      "4              24          54400                  RENT                8.0   \n",
      "...           ...            ...                   ...                ...   \n",
      "32576          57          53000              MORTGAGE                1.0   \n",
      "32577          54         120000              MORTGAGE                4.0   \n",
      "32578          65          76000                  RENT                3.0   \n",
      "32579          56         150000              MORTGAGE                5.0   \n",
      "32580          66          42000                  RENT                2.0   \n",
      "\n",
      "           loan_intent loan_grade  loan_amnt  loan_int_rate  loan_status  \\\n",
      "0             PERSONAL          D      35000          16.02            1   \n",
      "1            EDUCATION          B       1000          11.14            0   \n",
      "2              MEDICAL          C       5500          12.87            1   \n",
      "3              MEDICAL          C      35000          15.23            1   \n",
      "4              MEDICAL          C      35000          14.27            1   \n",
      "...                ...        ...        ...            ...          ...   \n",
      "32576         PERSONAL          C       5800          13.16            0   \n",
      "32577         PERSONAL          A      17625           7.49            0   \n",
      "32578  HOMEIMPROVEMENT          B      35000          10.99            1   \n",
      "32579         PERSONAL          B      15000          11.48            0   \n",
      "32580          MEDICAL          B       6475           9.99            0   \n",
      "\n",
      "       loan_percent_income cb_person_default_on_file  \\\n",
      "0                     0.59                         Y   \n",
      "1                     0.10                         N   \n",
      "2                     0.57                         N   \n",
      "3                     0.53                         N   \n",
      "4                     0.55                         Y   \n",
      "...                    ...                       ...   \n",
      "32576                 0.11                         N   \n",
      "32577                 0.15                         N   \n",
      "32578                 0.46                         N   \n",
      "32579                 0.10                         N   \n",
      "32580                 0.15                         N   \n",
      "\n",
      "       cb_person_cred_hist_length Borrower Risk  \n",
      "0                               3          High  \n",
      "1                               2           Low  \n",
      "2                               3          High  \n",
      "3                               2          High  \n",
      "4                               4          High  \n",
      "...                           ...           ...  \n",
      "32576                          30           Low  \n",
      "32577                          19        Medium  \n",
      "32578                          28        Medium  \n",
      "32579                          26           Low  \n",
      "32580                          30        Medium  \n",
      "\n",
      "[32581 rows x 13 columns]\n"
     ]
    }
   ],
   "source": [
    "query = \"\"\"\n",
    "SELECT \n",
    "    *, \n",
    "    CASE\n",
    "        WHEN loan_percent_income > 0.5 THEN 'High'\n",
    "        WHEN loan_percent_income BETWEEN 0.15 AND 0.5 THEN 'Medium'\n",
    "        ELSE 'Low'\n",
    "    END AS \"Borrower Risk\"\n",
    "    \n",
    "FROM credit_risk;\n",
    "\"\"\"\n",
    "\n",
    "# Run SQL query\n",
    "result = pd.read_sql_query(query, conn)\n",
    "print(result)"
   ]
  },
  {
   "cell_type": "markdown",
   "id": "624184c4",
   "metadata": {
    "papermill": {
     "duration": 0.01093,
     "end_time": "2025-06-03T17:03:38.309480",
     "exception": false,
     "start_time": "2025-06-03T17:03:38.298550",
     "status": "completed"
    },
    "tags": []
   },
   "source": [
    "**We have categorized all the borrowers into the three risk categories of \"Low\", \"Medium\" and \"High\" based on the loan amount they have borrowed as the percentage of their income. The extracted dataset can be now used to generate further insights.**"
   ]
  },
  {
   "cell_type": "markdown",
   "id": "065438eb",
   "metadata": {
    "papermill": {
     "duration": 0.011084,
     "end_time": "2025-06-03T17:03:38.331771",
     "exception": false,
     "start_time": "2025-06-03T17:03:38.320687",
     "status": "completed"
    },
    "tags": []
   },
   "source": [
    "# Predictive Modelling using Python"
   ]
  },
  {
   "cell_type": "markdown",
   "id": "18a9ddfe",
   "metadata": {
    "papermill": {
     "duration": 0.011004,
     "end_time": "2025-06-03T17:03:38.354029",
     "exception": false,
     "start_time": "2025-06-03T17:03:38.343025",
     "status": "completed"
    },
    "tags": []
   },
   "source": [
    "We will now carry out predictive modelling on the dataset to predict the defaulters using their demographic and loan specification data using **Logistic regression and the XGBoost Algorithm.**"
   ]
  },
  {
   "cell_type": "markdown",
   "id": "f3c502b7",
   "metadata": {
    "papermill": {
     "duration": 0.010832,
     "end_time": "2025-06-03T17:03:38.376048",
     "exception": false,
     "start_time": "2025-06-03T17:03:38.365216",
     "status": "completed"
    },
    "tags": []
   },
   "source": [
    "## Exploratory Data Analysis"
   ]
  },
  {
   "cell_type": "markdown",
   "id": "c231a860",
   "metadata": {
    "papermill": {
     "duration": 0.010931,
     "end_time": "2025-06-03T17:03:38.398427",
     "exception": false,
     "start_time": "2025-06-03T17:03:38.387496",
     "status": "completed"
    },
    "tags": []
   },
   "source": [
    "### Data Cleaning"
   ]
  },
  {
   "cell_type": "code",
   "execution_count": 10,
   "id": "d3610cd2",
   "metadata": {
    "execution": {
     "iopub.execute_input": "2025-06-03T17:03:38.423147Z",
     "iopub.status.busy": "2025-06-03T17:03:38.422799Z",
     "iopub.status.idle": "2025-06-03T17:03:38.436655Z",
     "shell.execute_reply": "2025-06-03T17:03:38.435716Z"
    },
    "papermill": {
     "duration": 0.027935,
     "end_time": "2025-06-03T17:03:38.438164",
     "exception": false,
     "start_time": "2025-06-03T17:03:38.410229",
     "status": "completed"
    },
    "tags": []
   },
   "outputs": [
    {
     "data": {
      "text/html": [
       "<div>\n",
       "<style scoped>\n",
       "    .dataframe tbody tr th:only-of-type {\n",
       "        vertical-align: middle;\n",
       "    }\n",
       "\n",
       "    .dataframe tbody tr th {\n",
       "        vertical-align: top;\n",
       "    }\n",
       "\n",
       "    .dataframe thead th {\n",
       "        text-align: right;\n",
       "    }\n",
       "</style>\n",
       "<table border=\"1\" class=\"dataframe\">\n",
       "  <thead>\n",
       "    <tr style=\"text-align: right;\">\n",
       "      <th></th>\n",
       "      <th>person_age</th>\n",
       "      <th>person_income</th>\n",
       "      <th>person_home_ownership</th>\n",
       "      <th>person_emp_length</th>\n",
       "      <th>loan_intent</th>\n",
       "      <th>loan_grade</th>\n",
       "      <th>loan_amnt</th>\n",
       "      <th>loan_int_rate</th>\n",
       "      <th>loan_status</th>\n",
       "      <th>loan_percent_income</th>\n",
       "      <th>cb_person_default_on_file</th>\n",
       "      <th>cb_person_cred_hist_length</th>\n",
       "    </tr>\n",
       "  </thead>\n",
       "  <tbody>\n",
       "    <tr>\n",
       "      <th>0</th>\n",
       "      <td>22</td>\n",
       "      <td>59000</td>\n",
       "      <td>RENT</td>\n",
       "      <td>123.0</td>\n",
       "      <td>PERSONAL</td>\n",
       "      <td>D</td>\n",
       "      <td>35000</td>\n",
       "      <td>16.02</td>\n",
       "      <td>1</td>\n",
       "      <td>0.59</td>\n",
       "      <td>Y</td>\n",
       "      <td>3</td>\n",
       "    </tr>\n",
       "    <tr>\n",
       "      <th>1</th>\n",
       "      <td>21</td>\n",
       "      <td>9600</td>\n",
       "      <td>OWN</td>\n",
       "      <td>5.0</td>\n",
       "      <td>EDUCATION</td>\n",
       "      <td>B</td>\n",
       "      <td>1000</td>\n",
       "      <td>11.14</td>\n",
       "      <td>0</td>\n",
       "      <td>0.10</td>\n",
       "      <td>N</td>\n",
       "      <td>2</td>\n",
       "    </tr>\n",
       "    <tr>\n",
       "      <th>2</th>\n",
       "      <td>25</td>\n",
       "      <td>9600</td>\n",
       "      <td>MORTGAGE</td>\n",
       "      <td>1.0</td>\n",
       "      <td>MEDICAL</td>\n",
       "      <td>C</td>\n",
       "      <td>5500</td>\n",
       "      <td>12.87</td>\n",
       "      <td>1</td>\n",
       "      <td>0.57</td>\n",
       "      <td>N</td>\n",
       "      <td>3</td>\n",
       "    </tr>\n",
       "    <tr>\n",
       "      <th>3</th>\n",
       "      <td>23</td>\n",
       "      <td>65500</td>\n",
       "      <td>RENT</td>\n",
       "      <td>4.0</td>\n",
       "      <td>MEDICAL</td>\n",
       "      <td>C</td>\n",
       "      <td>35000</td>\n",
       "      <td>15.23</td>\n",
       "      <td>1</td>\n",
       "      <td>0.53</td>\n",
       "      <td>N</td>\n",
       "      <td>2</td>\n",
       "    </tr>\n",
       "    <tr>\n",
       "      <th>4</th>\n",
       "      <td>24</td>\n",
       "      <td>54400</td>\n",
       "      <td>RENT</td>\n",
       "      <td>8.0</td>\n",
       "      <td>MEDICAL</td>\n",
       "      <td>C</td>\n",
       "      <td>35000</td>\n",
       "      <td>14.27</td>\n",
       "      <td>1</td>\n",
       "      <td>0.55</td>\n",
       "      <td>Y</td>\n",
       "      <td>4</td>\n",
       "    </tr>\n",
       "  </tbody>\n",
       "</table>\n",
       "</div>"
      ],
      "text/plain": [
       "   person_age  person_income person_home_ownership  person_emp_length  \\\n",
       "0          22          59000                  RENT              123.0   \n",
       "1          21           9600                   OWN                5.0   \n",
       "2          25           9600              MORTGAGE                1.0   \n",
       "3          23          65500                  RENT                4.0   \n",
       "4          24          54400                  RENT                8.0   \n",
       "\n",
       "  loan_intent loan_grade  loan_amnt  loan_int_rate  loan_status  \\\n",
       "0    PERSONAL          D      35000          16.02            1   \n",
       "1   EDUCATION          B       1000          11.14            0   \n",
       "2     MEDICAL          C       5500          12.87            1   \n",
       "3     MEDICAL          C      35000          15.23            1   \n",
       "4     MEDICAL          C      35000          14.27            1   \n",
       "\n",
       "   loan_percent_income cb_person_default_on_file  cb_person_cred_hist_length  \n",
       "0                 0.59                         Y                           3  \n",
       "1                 0.10                         N                           2  \n",
       "2                 0.57                         N                           3  \n",
       "3                 0.53                         N                           2  \n",
       "4                 0.55                         Y                           4  "
      ]
     },
     "execution_count": 10,
     "metadata": {},
     "output_type": "execute_result"
    }
   ],
   "source": [
    "df.head()"
   ]
  },
  {
   "cell_type": "code",
   "execution_count": 11,
   "id": "43c4516c",
   "metadata": {
    "execution": {
     "iopub.execute_input": "2025-06-03T17:03:38.462646Z",
     "iopub.status.busy": "2025-06-03T17:03:38.462265Z",
     "iopub.status.idle": "2025-06-03T17:03:39.922389Z",
     "shell.execute_reply": "2025-06-03T17:03:39.921387Z"
    },
    "papermill": {
     "duration": 1.474284,
     "end_time": "2025-06-03T17:03:39.924235",
     "exception": false,
     "start_time": "2025-06-03T17:03:38.449951",
     "status": "completed"
    },
    "tags": []
   },
   "outputs": [],
   "source": [
    "import pandas as pd\n",
    "from matplotlib import pyplot as plt\n",
    "import numpy as np\n",
    "%matplotlib inline\n",
    "import missingno as msno"
   ]
  },
  {
   "cell_type": "code",
   "execution_count": 12,
   "id": "456af159",
   "metadata": {
    "execution": {
     "iopub.execute_input": "2025-06-03T17:03:39.949163Z",
     "iopub.status.busy": "2025-06-03T17:03:39.948643Z",
     "iopub.status.idle": "2025-06-03T17:03:40.861987Z",
     "shell.execute_reply": "2025-06-03T17:03:40.860725Z"
    },
    "papermill": {
     "duration": 0.928545,
     "end_time": "2025-06-03T17:03:40.864719",
     "exception": false,
     "start_time": "2025-06-03T17:03:39.936174",
     "status": "completed"
    },
    "tags": []
   },
   "outputs": [
    {
     "data": {
      "text/plain": [
       "<Axes: >"
      ]
     },
     "execution_count": 12,
     "metadata": {},
     "output_type": "execute_result"
    },
    {
     "data": {
      "image/png": "[encoded data removed]",
      "text/plain": [
       "<Figure size 2500x1000 with 2 Axes>"
      ]
     },
     "metadata": {},
     "output_type": "display_data"
    }
   ],
   "source": [
    "msno.matrix(df)"
   ]
  },
  {
   "cell_type": "markdown",
   "id": "054fcdf0",
   "metadata": {
    "papermill": {
     "duration": 0.014278,
     "end_time": "2025-06-03T17:03:40.892708",
     "exception": false,
     "start_time": "2025-06-03T17:03:40.878430",
     "status": "completed"
    },
    "tags": []
   },
   "source": [
    "Two colummns: \"person_emp_length\" and \"loan_int_rate\" have missing values. \"person_emp_length\" has only few missing values (less than 100) in a dataset of more than 32000 data points. Therefore, we can easily remove those rows. Dealing with the other column requires some data imputation technique."
   ]
  },
  {
   "cell_type": "markdown",
   "id": "8aa189cd",
   "metadata": {
    "papermill": {
     "duration": 0.013054,
     "end_time": "2025-06-03T17:03:40.919214",
     "exception": false,
     "start_time": "2025-06-03T17:03:40.906160",
     "status": "completed"
    },
    "tags": []
   },
   "source": [
    "As seen in the SQL analysis above, the interest rates of the loan depend strongly on the loan grade. To handle missing values, we will impute them with the median of the interest rate value of each loan grade as applicable."
   ]
  },
  {
   "cell_type": "code",
   "execution_count": 13,
   "id": "8e3d721b",
   "metadata": {
    "execution": {
     "iopub.execute_input": "2025-06-03T17:03:40.947242Z",
     "iopub.status.busy": "2025-06-03T17:03:40.946897Z",
     "iopub.status.idle": "2025-06-03T17:03:41.063843Z",
     "shell.execute_reply": "2025-06-03T17:03:41.062534Z"
    },
    "papermill": {
     "duration": 0.133573,
     "end_time": "2025-06-03T17:03:41.066149",
     "exception": false,
     "start_time": "2025-06-03T17:03:40.932576",
     "status": "completed"
    },
    "tags": []
   },
   "outputs": [
    {
     "name": "stdout",
     "output_type": "stream",
     "text": [
      "<class 'pandas.core.frame.DataFrame'>\n",
      "RangeIndex: 32581 entries, 0 to 32580\n",
      "Data columns (total 12 columns):\n",
      " #   Column                      Non-Null Count  Dtype  \n",
      "---  ------                      --------------  -----  \n",
      " 0   person_age                  32581 non-null  int64  \n",
      " 1   person_income               32581 non-null  int64  \n",
      " 2   person_home_ownership       32581 non-null  object \n",
      " 3   person_emp_length           31686 non-null  float64\n",
      " 4   loan_intent                 32581 non-null  object \n",
      " 5   loan_grade                  32581 non-null  object \n",
      " 6   loan_amnt                   32581 non-null  int64  \n",
      " 7   loan_int_rate               29465 non-null  float64\n",
      " 8   loan_status                 32581 non-null  int64  \n",
      " 9   loan_percent_income         32581 non-null  float64\n",
      " 10  cb_person_default_on_file   32581 non-null  object \n",
      " 11  cb_person_cred_hist_length  32581 non-null  int64  \n",
      "dtypes: float64(3), int64(5), object(4)\n",
      "memory usage: 3.0+ MB\n"
     ]
    }
   ],
   "source": [
    "df.info()"
   ]
  },
  {
   "cell_type": "code",
   "execution_count": 14,
   "id": "b7c94c1e",
   "metadata": {
    "execution": {
     "iopub.execute_input": "2025-06-03T17:03:41.153341Z",
     "iopub.status.busy": "2025-06-03T17:03:41.152940Z",
     "iopub.status.idle": "2025-06-03T17:03:41.191841Z",
     "shell.execute_reply": "2025-06-03T17:03:41.190592Z"
    },
    "papermill": {
     "duration": 0.113322,
     "end_time": "2025-06-03T17:03:41.193728",
     "exception": false,
     "start_time": "2025-06-03T17:03:41.080406",
     "status": "completed"
    },
    "tags": []
   },
   "outputs": [
    {
     "data": {
      "text/html": [
       "<div>\n",
       "<style scoped>\n",
       "    .dataframe tbody tr th:only-of-type {\n",
       "        vertical-align: middle;\n",
       "    }\n",
       "\n",
       "    .dataframe tbody tr th {\n",
       "        vertical-align: top;\n",
       "    }\n",
       "\n",
       "    .dataframe thead th {\n",
       "        text-align: right;\n",
       "    }\n",
       "</style>\n",
       "<table border=\"1\" class=\"dataframe\">\n",
       "  <thead>\n",
       "    <tr style=\"text-align: right;\">\n",
       "      <th></th>\n",
       "      <th>person_age</th>\n",
       "      <th>person_income</th>\n",
       "      <th>person_emp_length</th>\n",
       "      <th>loan_amnt</th>\n",
       "      <th>loan_int_rate</th>\n",
       "      <th>loan_status</th>\n",
       "      <th>loan_percent_income</th>\n",
       "      <th>cb_person_cred_hist_length</th>\n",
       "    </tr>\n",
       "  </thead>\n",
       "  <tbody>\n",
       "    <tr>\n",
       "      <th>count</th>\n",
       "      <td>32581.000000</td>\n",
       "      <td>3.258100e+04</td>\n",
       "      <td>31686.000000</td>\n",
       "      <td>32581.000000</td>\n",
       "      <td>29465.000000</td>\n",
       "      <td>32581.000000</td>\n",
       "      <td>32581.000000</td>\n",
       "      <td>32581.000000</td>\n",
       "    </tr>\n",
       "    <tr>\n",
       "      <th>mean</th>\n",
       "      <td>27.734600</td>\n",
       "      <td>6.607485e+04</td>\n",
       "      <td>4.789686</td>\n",
       "      <td>9589.371106</td>\n",
       "      <td>11.011695</td>\n",
       "      <td>0.218164</td>\n",
       "      <td>0.170203</td>\n",
       "      <td>5.804211</td>\n",
       "    </tr>\n",
       "    <tr>\n",
       "      <th>std</th>\n",
       "      <td>6.348078</td>\n",
       "      <td>6.198312e+04</td>\n",
       "      <td>4.142630</td>\n",
       "      <td>6322.086646</td>\n",
       "      <td>3.240459</td>\n",
       "      <td>0.413006</td>\n",
       "      <td>0.106782</td>\n",
       "      <td>4.055001</td>\n",
       "    </tr>\n",
       "    <tr>\n",
       "      <th>min</th>\n",
       "      <td>20.000000</td>\n",
       "      <td>4.000000e+03</td>\n",
       "      <td>0.000000</td>\n",
       "      <td>500.000000</td>\n",
       "      <td>5.420000</td>\n",
       "      <td>0.000000</td>\n",
       "      <td>0.000000</td>\n",
       "      <td>2.000000</td>\n",
       "    </tr>\n",
       "    <tr>\n",
       "      <th>25%</th>\n",
       "      <td>23.000000</td>\n",
       "      <td>3.850000e+04</td>\n",
       "      <td>2.000000</td>\n",
       "      <td>5000.000000</td>\n",
       "      <td>7.900000</td>\n",
       "      <td>0.000000</td>\n",
       "      <td>0.090000</td>\n",
       "      <td>3.000000</td>\n",
       "    </tr>\n",
       "    <tr>\n",
       "      <th>50%</th>\n",
       "      <td>26.000000</td>\n",
       "      <td>5.500000e+04</td>\n",
       "      <td>4.000000</td>\n",
       "      <td>8000.000000</td>\n",
       "      <td>10.990000</td>\n",
       "      <td>0.000000</td>\n",
       "      <td>0.150000</td>\n",
       "      <td>4.000000</td>\n",
       "    </tr>\n",
       "    <tr>\n",
       "      <th>75%</th>\n",
       "      <td>30.000000</td>\n",
       "      <td>7.920000e+04</td>\n",
       "      <td>7.000000</td>\n",
       "      <td>12200.000000</td>\n",
       "      <td>13.470000</td>\n",
       "      <td>0.000000</td>\n",
       "      <td>0.230000</td>\n",
       "      <td>8.000000</td>\n",
       "    </tr>\n",
       "    <tr>\n",
       "      <th>max</th>\n",
       "      <td>144.000000</td>\n",
       "      <td>6.000000e+06</td>\n",
       "      <td>123.000000</td>\n",
       "      <td>35000.000000</td>\n",
       "      <td>23.220000</td>\n",
       "      <td>1.000000</td>\n",
       "      <td>0.830000</td>\n",
       "      <td>30.000000</td>\n",
       "    </tr>\n",
       "  </tbody>\n",
       "</table>\n",
       "</div>"
      ],
      "text/plain": [
       "         person_age  person_income  person_emp_length     loan_amnt  \\\n",
       "count  32581.000000   3.258100e+04       31686.000000  32581.000000   \n",
       "mean      27.734600   6.607485e+04           4.789686   9589.371106   \n",
       "std        6.348078   6.198312e+04           4.142630   6322.086646   \n",
       "min       20.000000   4.000000e+03           0.000000    500.000000   \n",
       "25%       23.000000   3.850000e+04           2.000000   5000.000000   \n",
       "50%       26.000000   5.500000e+04           4.000000   8000.000000   \n",
       "75%       30.000000   7.920000e+04           7.000000  12200.000000   \n",
       "max      144.000000   6.000000e+06         123.000000  35000.000000   \n",
       "\n",
       "       loan_int_rate   loan_status  loan_percent_income  \\\n",
       "count   29465.000000  32581.000000         32581.000000   \n",
       "mean       11.011695      0.218164             0.170203   \n",
       "std         3.240459      0.413006             0.106782   \n",
       "min         5.420000      0.000000             0.000000   \n",
       "25%         7.900000      0.000000             0.090000   \n",
       "50%        10.990000      0.000000             0.150000   \n",
       "75%        13.470000      0.000000             0.230000   \n",
       "max        23.220000      1.000000             0.830000   \n",
       "\n",
       "       cb_person_cred_hist_length  \n",
       "count                32581.000000  \n",
       "mean                     5.804211  \n",
       "std                      4.055001  \n",
       "min                      2.000000  \n",
       "25%                      3.000000  \n",
       "50%                      4.000000  \n",
       "75%                      8.000000  \n",
       "max                     30.000000  "
      ]
     },
     "execution_count": 14,
     "metadata": {},
     "output_type": "execute_result"
    }
   ],
   "source": [
    "df.describe()"
   ]
  },
  {
   "cell_type": "code",
   "execution_count": 15,
   "id": "08642209",
   "metadata": {
    "execution": {
     "iopub.execute_input": "2025-06-03T17:03:41.223312Z",
     "iopub.status.busy": "2025-06-03T17:03:41.222933Z",
     "iopub.status.idle": "2025-06-03T17:03:41.239740Z",
     "shell.execute_reply": "2025-06-03T17:03:41.238664Z"
    },
    "papermill": {
     "duration": 0.034195,
     "end_time": "2025-06-03T17:03:41.241739",
     "exception": false,
     "start_time": "2025-06-03T17:03:41.207544",
     "status": "completed"
    },
    "tags": []
   },
   "outputs": [],
   "source": [
    "df = df.dropna(subset=['person_emp_length'])\n",
    "\n",
    "df['loan_int_rate'] = df['loan_int_rate'].fillna(\n",
    "    df.groupby('loan_grade')['loan_int_rate'].transform('median')\n",
    ")"
   ]
  },
  {
   "cell_type": "code",
   "execution_count": 16,
   "id": "43addbf9",
   "metadata": {
    "execution": {
     "iopub.execute_input": "2025-06-03T17:03:41.271689Z",
     "iopub.status.busy": "2025-06-03T17:03:41.271286Z",
     "iopub.status.idle": "2025-06-03T17:03:41.970794Z",
     "shell.execute_reply": "2025-06-03T17:03:41.969674Z"
    },
    "papermill": {
     "duration": 0.716781,
     "end_time": "2025-06-03T17:03:41.972886",
     "exception": false,
     "start_time": "2025-06-03T17:03:41.256105",
     "status": "completed"
    },
    "tags": []
   },
   "outputs": [
    {
     "data": {
      "text/plain": [
       "<Axes: >"
      ]
     },
     "execution_count": 16,
     "metadata": {},
     "output_type": "execute_result"
    },
    {
     "data": {
      "image/png": "[encoded data removed]",
      "text/plain": [
       "<Figure size 2500x1000 with 2 Axes>"
      ]
     },
     "metadata": {},
     "output_type": "display_data"
    }
   ],
   "source": [
    "msno.matrix(df)"
   ]
  },
  {
   "cell_type": "code",
   "execution_count": 17,
   "id": "497e4e45",
   "metadata": {
    "execution": {
     "iopub.execute_input": "2025-06-03T17:03:42.006408Z",
     "iopub.status.busy": "2025-06-03T17:03:42.006069Z",
     "iopub.status.idle": "2025-06-03T17:03:42.011837Z",
     "shell.execute_reply": "2025-06-03T17:03:42.010723Z"
    },
    "papermill": {
     "duration": 0.024875,
     "end_time": "2025-06-03T17:03:42.013548",
     "exception": false,
     "start_time": "2025-06-03T17:03:41.988673",
     "status": "completed"
    },
    "tags": []
   },
   "outputs": [
    {
     "data": {
      "text/plain": [
       "(31686, 12)"
      ]
     },
     "execution_count": 17,
     "metadata": {},
     "output_type": "execute_result"
    }
   ],
   "source": [
    "df.shape"
   ]
  },
  {
   "cell_type": "code",
   "execution_count": 18,
   "id": "04c635e6",
   "metadata": {
    "execution": {
     "iopub.execute_input": "2025-06-03T17:03:42.047751Z",
     "iopub.status.busy": "2025-06-03T17:03:42.047354Z",
     "iopub.status.idle": "2025-06-03T17:03:42.055098Z",
     "shell.execute_reply": "2025-06-03T17:03:42.054213Z"
    },
    "papermill": {
     "duration": 0.027176,
     "end_time": "2025-06-03T17:03:42.056847",
     "exception": false,
     "start_time": "2025-06-03T17:03:42.029671",
     "status": "completed"
    },
    "tags": []
   },
   "outputs": [
    {
     "data": {
      "text/plain": [
       "array(['RENT', 'OWN', 'MORTGAGE', 'OTHER'], dtype=object)"
      ]
     },
     "execution_count": 18,
     "metadata": {},
     "output_type": "execute_result"
    }
   ],
   "source": [
    "df['person_home_ownership'].unique()"
   ]
  },
  {
   "cell_type": "code",
   "execution_count": 19,
   "id": "1c1f301a",
   "metadata": {
    "execution": {
     "iopub.execute_input": "2025-06-03T17:03:42.090679Z",
     "iopub.status.busy": "2025-06-03T17:03:42.090273Z",
     "iopub.status.idle": "2025-06-03T17:03:42.098746Z",
     "shell.execute_reply": "2025-06-03T17:03:42.097604Z"
    },
    "papermill": {
     "duration": 0.027581,
     "end_time": "2025-06-03T17:03:42.100827",
     "exception": false,
     "start_time": "2025-06-03T17:03:42.073246",
     "status": "completed"
    },
    "tags": []
   },
   "outputs": [
    {
     "data": {
      "text/plain": [
       "array(['PERSONAL', 'EDUCATION', 'MEDICAL', 'VENTURE', 'HOMEIMPROVEMENT',\n",
       "       'DEBTCONSOLIDATION'], dtype=object)"
      ]
     },
     "execution_count": 19,
     "metadata": {},
     "output_type": "execute_result"
    }
   ],
   "source": [
    "df['loan_intent'].unique()"
   ]
  },
  {
   "cell_type": "code",
   "execution_count": 20,
   "id": "2fc52138",
   "metadata": {
    "execution": {
     "iopub.execute_input": "2025-06-03T17:03:42.135118Z",
     "iopub.status.busy": "2025-06-03T17:03:42.134767Z",
     "iopub.status.idle": "2025-06-03T17:03:42.142713Z",
     "shell.execute_reply": "2025-06-03T17:03:42.141677Z"
    },
    "papermill": {
     "duration": 0.027054,
     "end_time": "2025-06-03T17:03:42.144439",
     "exception": false,
     "start_time": "2025-06-03T17:03:42.117385",
     "status": "completed"
    },
    "tags": []
   },
   "outputs": [
    {
     "data": {
      "text/plain": [
       "array(['D', 'B', 'C', 'A', 'E', 'F', 'G'], dtype=object)"
      ]
     },
     "execution_count": 20,
     "metadata": {},
     "output_type": "execute_result"
    }
   ],
   "source": [
    "df['loan_grade'].unique()"
   ]
  },
  {
   "cell_type": "code",
   "execution_count": 21,
   "id": "f3792cb4",
   "metadata": {
    "execution": {
     "iopub.execute_input": "2025-06-03T17:03:42.179430Z",
     "iopub.status.busy": "2025-06-03T17:03:42.179066Z",
     "iopub.status.idle": "2025-06-03T17:03:42.186711Z",
     "shell.execute_reply": "2025-06-03T17:03:42.185661Z"
    },
    "papermill": {
     "duration": 0.026991,
     "end_time": "2025-06-03T17:03:42.188383",
     "exception": false,
     "start_time": "2025-06-03T17:03:42.161392",
     "status": "completed"
    },
    "tags": []
   },
   "outputs": [
    {
     "data": {
      "text/plain": [
       "array([1, 0])"
      ]
     },
     "execution_count": 21,
     "metadata": {},
     "output_type": "execute_result"
    }
   ],
   "source": [
    "df['loan_status'].unique()"
   ]
  },
  {
   "cell_type": "code",
   "execution_count": 22,
   "id": "e20529d0",
   "metadata": {
    "execution": {
     "iopub.execute_input": "2025-06-03T17:03:42.222003Z",
     "iopub.status.busy": "2025-06-03T17:03:42.221646Z",
     "iopub.status.idle": "2025-06-03T17:03:42.229353Z",
     "shell.execute_reply": "2025-06-03T17:03:42.228405Z"
    },
    "papermill": {
     "duration": 0.026371,
     "end_time": "2025-06-03T17:03:42.231044",
     "exception": false,
     "start_time": "2025-06-03T17:03:42.204673",
     "status": "completed"
    },
    "tags": []
   },
   "outputs": [
    {
     "data": {
      "text/plain": [
       "array(['Y', 'N'], dtype=object)"
      ]
     },
     "execution_count": 22,
     "metadata": {},
     "output_type": "execute_result"
    }
   ],
   "source": [
    "df['cb_person_default_on_file'].unique()"
   ]
  },
  {
   "cell_type": "code",
   "execution_count": 23,
   "id": "f6955d2d",
   "metadata": {
    "execution": {
     "iopub.execute_input": "2025-06-03T17:03:42.264971Z",
     "iopub.status.busy": "2025-06-03T17:03:42.264601Z",
     "iopub.status.idle": "2025-06-03T17:03:42.292373Z",
     "shell.execute_reply": "2025-06-03T17:03:42.291128Z"
    },
    "papermill": {
     "duration": 0.046928,
     "end_time": "2025-06-03T17:03:42.294344",
     "exception": false,
     "start_time": "2025-06-03T17:03:42.247416",
     "status": "completed"
    },
    "tags": []
   },
   "outputs": [
    {
     "name": "stdout",
     "output_type": "stream",
     "text": [
      "Shape of the DataFrame after dummies: (31686, 15)\n",
      "True\n",
      "Shape of the DataFrame after concatenation: (31686, 23)\n"
     ]
    }
   ],
   "source": [
    "# Columns you want to encode\n",
    "categorical_cols = ['person_home_ownership', 'loan_intent', 'loan_grade', 'cb_person_default_on_file']  \n",
    "\n",
    "# Create dummies\n",
    "df_dummies = pd.get_dummies(df[categorical_cols], drop_first=True)\n",
    "\n",
    "\n",
    "print(\"Shape of the DataFrame after dummies:\", df_dummies.shape)\n",
    "\n",
    "print(df.index.equals(df_dummies.index))\n",
    "\n",
    "# Drop original categorical columns and add dummies\n",
    "df = pd.concat([df.drop(columns=categorical_cols), df_dummies], axis=1)\n",
    "\n",
    "print(\"Shape of the DataFrame after concatenation:\", df.shape)"
   ]
  },
  {
   "cell_type": "code",
   "execution_count": 24,
   "id": "6dd446e9",
   "metadata": {
    "execution": {
     "iopub.execute_input": "2025-06-03T17:03:42.328381Z",
     "iopub.status.busy": "2025-06-03T17:03:42.327999Z",
     "iopub.status.idle": "2025-06-03T17:03:42.523411Z",
     "shell.execute_reply": "2025-06-03T17:03:42.522244Z"
    },
    "papermill": {
     "duration": 0.214569,
     "end_time": "2025-06-03T17:03:42.525348",
     "exception": false,
     "start_time": "2025-06-03T17:03:42.310779",
     "status": "completed"
    },
    "tags": []
   },
   "outputs": [
    {
     "name": "stdout",
     "output_type": "stream",
     "text": [
      "Shape of the DataFrame after scaling: (31686, 7)\n",
      "True\n",
      "Shape of the DataFrame after concatenation: (31686, 23)\n"
     ]
    }
   ],
   "source": [
    "from sklearn.preprocessing import StandardScaler\n",
    "# Columns you want to scale\n",
    "numerical_cols = ['person_age', 'person_income', 'person_emp_length', 'loan_amnt', 'loan_int_rate', 'loan_percent_income', 'cb_person_cred_hist_length']  \n",
    "\n",
    "# Standardize selected numerical columns\n",
    "scaler = StandardScaler()\n",
    "df_scaled_part = pd.DataFrame(scaler.fit_transform(df[numerical_cols]), columns=numerical_cols, index=df.index)\n",
    "\n",
    "print(\"Shape of the DataFrame after scaling:\", df_scaled_part.shape)\n",
    "print(df.index.equals(df_scaled_part.index))\n",
    "\n",
    "# Drop original numerical columns and add scaled ones\n",
    "df = pd.concat([df.drop(columns=numerical_cols), df_scaled_part], axis=1)\n",
    "\n",
    "print(\"Shape of the DataFrame after concatenation:\", df.shape)"
   ]
  },
  {
   "cell_type": "code",
   "execution_count": 25,
   "id": "80acd600",
   "metadata": {
    "execution": {
     "iopub.execute_input": "2025-06-03T17:03:42.561221Z",
     "iopub.status.busy": "2025-06-03T17:03:42.560875Z",
     "iopub.status.idle": "2025-06-03T17:03:42.599539Z",
     "shell.execute_reply": "2025-06-03T17:03:42.598218Z"
    },
    "papermill": {
     "duration": 0.057784,
     "end_time": "2025-06-03T17:03:42.601432",
     "exception": false,
     "start_time": "2025-06-03T17:03:42.543648",
     "status": "completed"
    },
    "tags": []
   },
   "outputs": [
    {
     "data": {
      "text/html": [
       "<div>\n",
       "<style scoped>\n",
       "    .dataframe tbody tr th:only-of-type {\n",
       "        vertical-align: middle;\n",
       "    }\n",
       "\n",
       "    .dataframe tbody tr th {\n",
       "        vertical-align: top;\n",
       "    }\n",
       "\n",
       "    .dataframe thead th {\n",
       "        text-align: right;\n",
       "    }\n",
       "</style>\n",
       "<table border=\"1\" class=\"dataframe\">\n",
       "  <thead>\n",
       "    <tr style=\"text-align: right;\">\n",
       "      <th></th>\n",
       "      <th>loan_status</th>\n",
       "      <th>person_age</th>\n",
       "      <th>person_income</th>\n",
       "      <th>person_emp_length</th>\n",
       "      <th>loan_amnt</th>\n",
       "      <th>loan_int_rate</th>\n",
       "      <th>loan_percent_income</th>\n",
       "      <th>cb_person_cred_hist_length</th>\n",
       "    </tr>\n",
       "  </thead>\n",
       "  <tbody>\n",
       "    <tr>\n",
       "      <th>count</th>\n",
       "      <td>31686.000000</td>\n",
       "      <td>3.168600e+04</td>\n",
       "      <td>3.168600e+04</td>\n",
       "      <td>3.168600e+04</td>\n",
       "      <td>3.168600e+04</td>\n",
       "      <td>3.168600e+04</td>\n",
       "      <td>3.168600e+04</td>\n",
       "      <td>3.168600e+04</td>\n",
       "    </tr>\n",
       "    <tr>\n",
       "      <th>mean</th>\n",
       "      <td>0.215426</td>\n",
       "      <td>-1.722202e-16</td>\n",
       "      <td>4.305504e-17</td>\n",
       "      <td>1.435168e-17</td>\n",
       "      <td>9.687384e-17</td>\n",
       "      <td>2.359057e-16</td>\n",
       "      <td>1.542806e-16</td>\n",
       "      <td>-1.148134e-16</td>\n",
       "    </tr>\n",
       "    <tr>\n",
       "      <th>std</th>\n",
       "      <td>0.411124</td>\n",
       "      <td>1.000016e+00</td>\n",
       "      <td>1.000016e+00</td>\n",
       "      <td>1.000016e+00</td>\n",
       "      <td>1.000016e+00</td>\n",
       "      <td>1.000016e+00</td>\n",
       "      <td>1.000016e+00</td>\n",
       "      <td>1.000016e+00</td>\n",
       "    </tr>\n",
       "    <tr>\n",
       "      <th>min</th>\n",
       "      <td>0.000000</td>\n",
       "      <td>-1.218094e+00</td>\n",
       "      <td>-1.004254e+00</td>\n",
       "      <td>-1.156213e+00</td>\n",
       "      <td>-1.445889e+00</td>\n",
       "      <td>-1.755824e+00</td>\n",
       "      <td>-1.595672e+00</td>\n",
       "      <td>-9.380698e-01</td>\n",
       "    </tr>\n",
       "    <tr>\n",
       "      <th>25%</th>\n",
       "      <td>0.000000</td>\n",
       "      <td>-7.464096e-01</td>\n",
       "      <td>-4.372336e-01</td>\n",
       "      <td>-6.734201e-01</td>\n",
       "      <td>-7.356763e-01</td>\n",
       "      <td>-9.812599e-01</td>\n",
       "      <td>-7.489728e-01</td>\n",
       "      <td>-6.918131e-01</td>\n",
       "    </tr>\n",
       "    <tr>\n",
       "      <th>50%</th>\n",
       "      <td>0.000000</td>\n",
       "      <td>-2.747251e-01</td>\n",
       "      <td>-1.712720e-01</td>\n",
       "      <td>-1.906274e-01</td>\n",
       "      <td>-2.622009e-01</td>\n",
       "      <td>-1.617863e-02</td>\n",
       "      <td>-1.845065e-01</td>\n",
       "      <td>-4.455564e-01</td>\n",
       "    </tr>\n",
       "    <tr>\n",
       "      <th>75%</th>\n",
       "      <td>0.000000</td>\n",
       "      <td>3.541877e-01</td>\n",
       "      <td>2.131813e-01</td>\n",
       "      <td>5.335617e-01</td>\n",
       "      <td>4.480122e-01</td>\n",
       "      <td>7.615082e-01</td>\n",
       "      <td>5.681153e-01</td>\n",
       "      <td>5.394706e-01</td>\n",
       "    </tr>\n",
       "    <tr>\n",
       "      <th>max</th>\n",
       "      <td>1.000000</td>\n",
       "      <td>1.827820e+01</td>\n",
       "      <td>9.504500e+01</td>\n",
       "      <td>2.853554e+01</td>\n",
       "      <td>3.999078e+00</td>\n",
       "      <td>3.803544e+00</td>\n",
       "      <td>6.212778e+00</td>\n",
       "      <td>5.957119e+00</td>\n",
       "    </tr>\n",
       "  </tbody>\n",
       "</table>\n",
       "</div>"
      ],
      "text/plain": [
       "        loan_status    person_age  person_income  person_emp_length  \\\n",
       "count  31686.000000  3.168600e+04   3.168600e+04       3.168600e+04   \n",
       "mean       0.215426 -1.722202e-16   4.305504e-17       1.435168e-17   \n",
       "std        0.411124  1.000016e+00   1.000016e+00       1.000016e+00   \n",
       "min        0.000000 -1.218094e+00  -1.004254e+00      -1.156213e+00   \n",
       "25%        0.000000 -7.464096e-01  -4.372336e-01      -6.734201e-01   \n",
       "50%        0.000000 -2.747251e-01  -1.712720e-01      -1.906274e-01   \n",
       "75%        0.000000  3.541877e-01   2.131813e-01       5.335617e-01   \n",
       "max        1.000000  1.827820e+01   9.504500e+01       2.853554e+01   \n",
       "\n",
       "          loan_amnt  loan_int_rate  loan_percent_income  \\\n",
       "count  3.168600e+04   3.168600e+04         3.168600e+04   \n",
       "mean   9.687384e-17   2.359057e-16         1.542806e-16   \n",
       "std    1.000016e+00   1.000016e+00         1.000016e+00   \n",
       "min   -1.445889e+00  -1.755824e+00        -1.595672e+00   \n",
       "25%   -7.356763e-01  -9.812599e-01        -7.489728e-01   \n",
       "50%   -2.622009e-01  -1.617863e-02        -1.845065e-01   \n",
       "75%    4.480122e-01   7.615082e-01         5.681153e-01   \n",
       "max    3.999078e+00   3.803544e+00         6.212778e+00   \n",
       "\n",
       "       cb_person_cred_hist_length  \n",
       "count                3.168600e+04  \n",
       "mean                -1.148134e-16  \n",
       "std                  1.000016e+00  \n",
       "min                 -9.380698e-01  \n",
       "25%                 -6.918131e-01  \n",
       "50%                 -4.455564e-01  \n",
       "75%                  5.394706e-01  \n",
       "max                  5.957119e+00  "
      ]
     },
     "execution_count": 25,
     "metadata": {},
     "output_type": "execute_result"
    }
   ],
   "source": [
    "df.describe()"
   ]
  },
  {
   "cell_type": "code",
   "execution_count": 26,
   "id": "75c2b0a8",
   "metadata": {
    "execution": {
     "iopub.execute_input": "2025-06-03T17:03:42.636727Z",
     "iopub.status.busy": "2025-06-03T17:03:42.636299Z",
     "iopub.status.idle": "2025-06-03T17:03:43.573624Z",
     "shell.execute_reply": "2025-06-03T17:03:43.572404Z"
    },
    "papermill": {
     "duration": 0.95814,
     "end_time": "2025-06-03T17:03:43.576539",
     "exception": false,
     "start_time": "2025-06-03T17:03:42.618399",
     "status": "completed"
    },
    "tags": []
   },
   "outputs": [
    {
     "data": {
      "text/plain": [
       "<Axes: >"
      ]
     },
     "execution_count": 26,
     "metadata": {},
     "output_type": "execute_result"
    },
    {
     "data": {
      "image/png": "[encoded data removed]",
      "text/plain": [
       "<Figure size 2500x1000 with 2 Axes>"
      ]
     },
     "metadata": {},
     "output_type": "display_data"
    }
   ],
   "source": [
    "msno.matrix(df)"
   ]
  },
  {
   "cell_type": "code",
   "execution_count": 27,
   "id": "8116fd2b",
   "metadata": {
    "execution": {
     "iopub.execute_input": "2025-06-03T17:03:43.616193Z",
     "iopub.status.busy": "2025-06-03T17:03:43.615787Z",
     "iopub.status.idle": "2025-06-03T17:03:43.767203Z",
     "shell.execute_reply": "2025-06-03T17:03:43.765770Z"
    },
    "papermill": {
     "duration": 0.173163,
     "end_time": "2025-06-03T17:03:43.768954",
     "exception": false,
     "start_time": "2025-06-03T17:03:43.595791",
     "status": "completed"
    },
    "tags": []
   },
   "outputs": [
    {
     "name": "stderr",
     "output_type": "stream",
     "text": [
      "<ipython-input-27-e27b85c07cb6>:1: FutureWarning: Downcasting behavior in `replace` is deprecated and will be removed in a future version. To retain the old behavior, explicitly call `result.infer_objects(copy=False)`. To opt-in to the future behavior, set `pd.set_option('future.no_silent_downcasting', True)`\n",
      "  df.replace({True: 1, False: 0}, inplace=True)\n"
     ]
    }
   ],
   "source": [
    "df.replace({True: 1, False: 0}, inplace=True)"
   ]
  },
  {
   "cell_type": "code",
   "execution_count": 28,
   "id": "3fdb4e53",
   "metadata": {
    "execution": {
     "iopub.execute_input": "2025-06-03T17:03:43.808482Z",
     "iopub.status.busy": "2025-06-03T17:03:43.808127Z",
     "iopub.status.idle": "2025-06-03T17:03:43.884109Z",
     "shell.execute_reply": "2025-06-03T17:03:43.883129Z"
    },
    "papermill": {
     "duration": 0.098031,
     "end_time": "2025-06-03T17:03:43.886063",
     "exception": false,
     "start_time": "2025-06-03T17:03:43.788032",
     "status": "completed"
    },
    "tags": []
   },
   "outputs": [
    {
     "data": {
      "text/html": [
       "<div>\n",
       "<style scoped>\n",
       "    .dataframe tbody tr th:only-of-type {\n",
       "        vertical-align: middle;\n",
       "    }\n",
       "\n",
       "    .dataframe tbody tr th {\n",
       "        vertical-align: top;\n",
       "    }\n",
       "\n",
       "    .dataframe thead th {\n",
       "        text-align: right;\n",
       "    }\n",
       "</style>\n",
       "<table border=\"1\" class=\"dataframe\">\n",
       "  <thead>\n",
       "    <tr style=\"text-align: right;\">\n",
       "      <th></th>\n",
       "      <th>loan_status</th>\n",
       "      <th>person_home_ownership_OTHER</th>\n",
       "      <th>person_home_ownership_OWN</th>\n",
       "      <th>person_home_ownership_RENT</th>\n",
       "      <th>loan_intent_EDUCATION</th>\n",
       "      <th>loan_intent_HOMEIMPROVEMENT</th>\n",
       "      <th>loan_intent_MEDICAL</th>\n",
       "      <th>loan_intent_PERSONAL</th>\n",
       "      <th>loan_intent_VENTURE</th>\n",
       "      <th>loan_grade_B</th>\n",
       "      <th>...</th>\n",
       "      <th>loan_grade_F</th>\n",
       "      <th>loan_grade_G</th>\n",
       "      <th>cb_person_default_on_file_Y</th>\n",
       "      <th>person_age</th>\n",
       "      <th>person_income</th>\n",
       "      <th>person_emp_length</th>\n",
       "      <th>loan_amnt</th>\n",
       "      <th>loan_int_rate</th>\n",
       "      <th>loan_percent_income</th>\n",
       "      <th>cb_person_cred_hist_length</th>\n",
       "    </tr>\n",
       "  </thead>\n",
       "  <tbody>\n",
       "    <tr>\n",
       "      <th>count</th>\n",
       "      <td>31686.000000</td>\n",
       "      <td>31686.000000</td>\n",
       "      <td>31686.000000</td>\n",
       "      <td>31686.000000</td>\n",
       "      <td>31686.000000</td>\n",
       "      <td>31686.000000</td>\n",
       "      <td>31686.000000</td>\n",
       "      <td>31686.000000</td>\n",
       "      <td>31686.000000</td>\n",
       "      <td>31686.000000</td>\n",
       "      <td>...</td>\n",
       "      <td>31686.000000</td>\n",
       "      <td>31686.000000</td>\n",
       "      <td>31686.000000</td>\n",
       "      <td>3.168600e+04</td>\n",
       "      <td>3.168600e+04</td>\n",
       "      <td>3.168600e+04</td>\n",
       "      <td>3.168600e+04</td>\n",
       "      <td>3.168600e+04</td>\n",
       "      <td>3.168600e+04</td>\n",
       "      <td>3.168600e+04</td>\n",
       "    </tr>\n",
       "    <tr>\n",
       "      <th>mean</th>\n",
       "      <td>0.215426</td>\n",
       "      <td>0.003377</td>\n",
       "      <td>0.076059</td>\n",
       "      <td>0.507353</td>\n",
       "      <td>0.198510</td>\n",
       "      <td>0.110774</td>\n",
       "      <td>0.186107</td>\n",
       "      <td>0.169444</td>\n",
       "      <td>0.175346</td>\n",
       "      <td>0.321467</td>\n",
       "      <td>...</td>\n",
       "      <td>0.007448</td>\n",
       "      <td>0.002020</td>\n",
       "      <td>0.177649</td>\n",
       "      <td>-1.722202e-16</td>\n",
       "      <td>4.305504e-17</td>\n",
       "      <td>1.435168e-17</td>\n",
       "      <td>9.687384e-17</td>\n",
       "      <td>2.359057e-16</td>\n",
       "      <td>1.542806e-16</td>\n",
       "      <td>-1.148134e-16</td>\n",
       "    </tr>\n",
       "    <tr>\n",
       "      <th>std</th>\n",
       "      <td>0.411124</td>\n",
       "      <td>0.058014</td>\n",
       "      <td>0.265096</td>\n",
       "      <td>0.499954</td>\n",
       "      <td>0.398885</td>\n",
       "      <td>0.313858</td>\n",
       "      <td>0.389199</td>\n",
       "      <td>0.375149</td>\n",
       "      <td>0.380268</td>\n",
       "      <td>0.467047</td>\n",
       "      <td>...</td>\n",
       "      <td>0.085982</td>\n",
       "      <td>0.044898</td>\n",
       "      <td>0.382223</td>\n",
       "      <td>1.000016e+00</td>\n",
       "      <td>1.000016e+00</td>\n",
       "      <td>1.000016e+00</td>\n",
       "      <td>1.000016e+00</td>\n",
       "      <td>1.000016e+00</td>\n",
       "      <td>1.000016e+00</td>\n",
       "      <td>1.000016e+00</td>\n",
       "    </tr>\n",
       "    <tr>\n",
       "      <th>min</th>\n",
       "      <td>0.000000</td>\n",
       "      <td>0.000000</td>\n",
       "      <td>0.000000</td>\n",
       "      <td>0.000000</td>\n",
       "      <td>0.000000</td>\n",
       "      <td>0.000000</td>\n",
       "      <td>0.000000</td>\n",
       "      <td>0.000000</td>\n",
       "      <td>0.000000</td>\n",
       "      <td>0.000000</td>\n",
       "      <td>...</td>\n",
       "      <td>0.000000</td>\n",
       "      <td>0.000000</td>\n",
       "      <td>0.000000</td>\n",
       "      <td>-1.218094e+00</td>\n",
       "      <td>-1.004254e+00</td>\n",
       "      <td>-1.156213e+00</td>\n",
       "      <td>-1.445889e+00</td>\n",
       "      <td>-1.755824e+00</td>\n",
       "      <td>-1.595672e+00</td>\n",
       "      <td>-9.380698e-01</td>\n",
       "    </tr>\n",
       "    <tr>\n",
       "      <th>25%</th>\n",
       "      <td>0.000000</td>\n",
       "      <td>0.000000</td>\n",
       "      <td>0.000000</td>\n",
       "      <td>0.000000</td>\n",
       "      <td>0.000000</td>\n",
       "      <td>0.000000</td>\n",
       "      <td>0.000000</td>\n",
       "      <td>0.000000</td>\n",
       "      <td>0.000000</td>\n",
       "      <td>0.000000</td>\n",
       "      <td>...</td>\n",
       "      <td>0.000000</td>\n",
       "      <td>0.000000</td>\n",
       "      <td>0.000000</td>\n",
       "      <td>-7.464096e-01</td>\n",
       "      <td>-4.372336e-01</td>\n",
       "      <td>-6.734201e-01</td>\n",
       "      <td>-7.356763e-01</td>\n",
       "      <td>-9.812599e-01</td>\n",
       "      <td>-7.489728e-01</td>\n",
       "      <td>-6.918131e-01</td>\n",
       "    </tr>\n",
       "    <tr>\n",
       "      <th>50%</th>\n",
       "      <td>0.000000</td>\n",
       "      <td>0.000000</td>\n",
       "      <td>0.000000</td>\n",
       "      <td>1.000000</td>\n",
       "      <td>0.000000</td>\n",
       "      <td>0.000000</td>\n",
       "      <td>0.000000</td>\n",
       "      <td>0.000000</td>\n",
       "      <td>0.000000</td>\n",
       "      <td>0.000000</td>\n",
       "      <td>...</td>\n",
       "      <td>0.000000</td>\n",
       "      <td>0.000000</td>\n",
       "      <td>0.000000</td>\n",
       "      <td>-2.747251e-01</td>\n",
       "      <td>-1.712720e-01</td>\n",
       "      <td>-1.906274e-01</td>\n",
       "      <td>-2.622009e-01</td>\n",
       "      <td>-1.617863e-02</td>\n",
       "      <td>-1.845065e-01</td>\n",
       "      <td>-4.455564e-01</td>\n",
       "    </tr>\n",
       "    <tr>\n",
       "      <th>75%</th>\n",
       "      <td>0.000000</td>\n",
       "      <td>0.000000</td>\n",
       "      <td>0.000000</td>\n",
       "      <td>1.000000</td>\n",
       "      <td>0.000000</td>\n",
       "      <td>0.000000</td>\n",
       "      <td>0.000000</td>\n",
       "      <td>0.000000</td>\n",
       "      <td>0.000000</td>\n",
       "      <td>1.000000</td>\n",
       "      <td>...</td>\n",
       "      <td>0.000000</td>\n",
       "      <td>0.000000</td>\n",
       "      <td>0.000000</td>\n",
       "      <td>3.541877e-01</td>\n",
       "      <td>2.131813e-01</td>\n",
       "      <td>5.335617e-01</td>\n",
       "      <td>4.480122e-01</td>\n",
       "      <td>7.615082e-01</td>\n",
       "      <td>5.681153e-01</td>\n",
       "      <td>5.394706e-01</td>\n",
       "    </tr>\n",
       "    <tr>\n",
       "      <th>max</th>\n",
       "      <td>1.000000</td>\n",
       "      <td>1.000000</td>\n",
       "      <td>1.000000</td>\n",
       "      <td>1.000000</td>\n",
       "      <td>1.000000</td>\n",
       "      <td>1.000000</td>\n",
       "      <td>1.000000</td>\n",
       "      <td>1.000000</td>\n",
       "      <td>1.000000</td>\n",
       "      <td>1.000000</td>\n",
       "      <td>...</td>\n",
       "      <td>1.000000</td>\n",
       "      <td>1.000000</td>\n",
       "      <td>1.000000</td>\n",
       "      <td>1.827820e+01</td>\n",
       "      <td>9.504500e+01</td>\n",
       "      <td>2.853554e+01</td>\n",
       "      <td>3.999078e+00</td>\n",
       "      <td>3.803544e+00</td>\n",
       "      <td>6.212778e+00</td>\n",
       "      <td>5.957119e+00</td>\n",
       "    </tr>\n",
       "  </tbody>\n",
       "</table>\n",
       "<p>8 rows × 23 columns</p>\n",
       "</div>"
      ],
      "text/plain": [
       "        loan_status  person_home_ownership_OTHER  person_home_ownership_OWN  \\\n",
       "count  31686.000000                 31686.000000               31686.000000   \n",
       "mean       0.215426                     0.003377                   0.076059   \n",
       "std        0.411124                     0.058014                   0.265096   \n",
       "min        0.000000                     0.000000                   0.000000   \n",
       "25%        0.000000                     0.000000                   0.000000   \n",
       "50%        0.000000                     0.000000                   0.000000   \n",
       "75%        0.000000                     0.000000                   0.000000   \n",
       "max        1.000000                     1.000000                   1.000000   \n",
       "\n",
       "       person_home_ownership_RENT  loan_intent_EDUCATION  \\\n",
       "count                31686.000000           31686.000000   \n",
       "mean                     0.507353               0.198510   \n",
       "std                      0.499954               0.398885   \n",
       "min                      0.000000               0.000000   \n",
       "25%                      0.000000               0.000000   \n",
       "50%                      1.000000               0.000000   \n",
       "75%                      1.000000               0.000000   \n",
       "max                      1.000000               1.000000   \n",
       "\n",
       "       loan_intent_HOMEIMPROVEMENT  loan_intent_MEDICAL  loan_intent_PERSONAL  \\\n",
       "count                 31686.000000         31686.000000          31686.000000   \n",
       "mean                      0.110774             0.186107              0.169444   \n",
       "std                       0.313858             0.389199              0.375149   \n",
       "min                       0.000000             0.000000              0.000000   \n",
       "25%                       0.000000             0.000000              0.000000   \n",
       "50%                       0.000000             0.000000              0.000000   \n",
       "75%                       0.000000             0.000000              0.000000   \n",
       "max                       1.000000             1.000000              1.000000   \n",
       "\n",
       "       loan_intent_VENTURE  loan_grade_B  ...  loan_grade_F  loan_grade_G  \\\n",
       "count         31686.000000  31686.000000  ...  31686.000000  31686.000000   \n",
       "mean              0.175346      0.321467  ...      0.007448      0.002020   \n",
       "std               0.380268      0.467047  ...      0.085982      0.044898   \n",
       "min               0.000000      0.000000  ...      0.000000      0.000000   \n",
       "25%               0.000000      0.000000  ...      0.000000      0.000000   \n",
       "50%               0.000000      0.000000  ...      0.000000      0.000000   \n",
       "75%               0.000000      1.000000  ...      0.000000      0.000000   \n",
       "max               1.000000      1.000000  ...      1.000000      1.000000   \n",
       "\n",
       "       cb_person_default_on_file_Y    person_age  person_income  \\\n",
       "count                 31686.000000  3.168600e+04   3.168600e+04   \n",
       "mean                      0.177649 -1.722202e-16   4.305504e-17   \n",
       "std                       0.382223  1.000016e+00   1.000016e+00   \n",
       "min                       0.000000 -1.218094e+00  -1.004254e+00   \n",
       "25%                       0.000000 -7.464096e-01  -4.372336e-01   \n",
       "50%                       0.000000 -2.747251e-01  -1.712720e-01   \n",
       "75%                       0.000000  3.541877e-01   2.131813e-01   \n",
       "max                       1.000000  1.827820e+01   9.504500e+01   \n",
       "\n",
       "       person_emp_length     loan_amnt  loan_int_rate  loan_percent_income  \\\n",
       "count       3.168600e+04  3.168600e+04   3.168600e+04         3.168600e+04   \n",
       "mean        1.435168e-17  9.687384e-17   2.359057e-16         1.542806e-16   \n",
       "std         1.000016e+00  1.000016e+00   1.000016e+00         1.000016e+00   \n",
       "min        -1.156213e+00 -1.445889e+00  -1.755824e+00        -1.595672e+00   \n",
       "25%        -6.734201e-01 -7.356763e-01  -9.812599e-01        -7.489728e-01   \n",
       "50%        -1.906274e-01 -2.622009e-01  -1.617863e-02        -1.845065e-01   \n",
       "75%         5.335617e-01  4.480122e-01   7.615082e-01         5.681153e-01   \n",
       "max         2.853554e+01  3.999078e+00   3.803544e+00         6.212778e+00   \n",
       "\n",
       "       cb_person_cred_hist_length  \n",
       "count                3.168600e+04  \n",
       "mean                -1.148134e-16  \n",
       "std                  1.000016e+00  \n",
       "min                 -9.380698e-01  \n",
       "25%                 -6.918131e-01  \n",
       "50%                 -4.455564e-01  \n",
       "75%                  5.394706e-01  \n",
       "max                  5.957119e+00  \n",
       "\n",
       "[8 rows x 23 columns]"
      ]
     },
     "execution_count": 28,
     "metadata": {},
     "output_type": "execute_result"
    }
   ],
   "source": [
    "df.describe()"
   ]
  },
  {
   "cell_type": "code",
   "execution_count": 29,
   "id": "d9c4ed76",
   "metadata": {
    "execution": {
     "iopub.execute_input": "2025-06-03T17:03:43.926243Z",
     "iopub.status.busy": "2025-06-03T17:03:43.925914Z",
     "iopub.status.idle": "2025-06-03T17:03:44.846773Z",
     "shell.execute_reply": "2025-06-03T17:03:44.845642Z"
    },
    "papermill": {
     "duration": 0.943128,
     "end_time": "2025-06-03T17:03:44.848726",
     "exception": false,
     "start_time": "2025-06-03T17:03:43.905598",
     "status": "completed"
    },
    "tags": []
   },
   "outputs": [
    {
     "data": {
      "text/plain": [
       "<Axes: >"
      ]
     },
     "execution_count": 29,
     "metadata": {},
     "output_type": "execute_result"
    },
    {
     "data": {
      "image/png": "[encoded data removed]",
      "text/plain": [
       "<Figure size 2500x1000 with 2 Axes>"
      ]
     },
     "metadata": {},
     "output_type": "display_data"
    }
   ],
   "source": [
    "msno.matrix(df)"
   ]
  },
  {
   "cell_type": "code",
   "execution_count": 30,
   "id": "81b05aa9",
   "metadata": {
    "execution": {
     "iopub.execute_input": "2025-06-03T17:03:44.894873Z",
     "iopub.status.busy": "2025-06-03T17:03:44.894443Z",
     "iopub.status.idle": "2025-06-03T17:03:44.900094Z",
     "shell.execute_reply": "2025-06-03T17:03:44.899090Z"
    },
    "papermill": {
     "duration": 0.030745,
     "end_time": "2025-06-03T17:03:44.901703",
     "exception": false,
     "start_time": "2025-06-03T17:03:44.870958",
     "status": "completed"
    },
    "tags": []
   },
   "outputs": [
    {
     "data": {
      "text/plain": [
       "(31686, 23)"
      ]
     },
     "execution_count": 30,
     "metadata": {},
     "output_type": "execute_result"
    }
   ],
   "source": [
    "df.shape"
   ]
  },
  {
   "cell_type": "markdown",
   "id": "4695a5d1",
   "metadata": {
    "papermill": {
     "duration": 0.021614,
     "end_time": "2025-06-03T17:03:44.945546",
     "exception": false,
     "start_time": "2025-06-03T17:03:44.923932",
     "status": "completed"
    },
    "tags": []
   },
   "source": [
    "### Data Preprocessing"
   ]
  },
  {
   "cell_type": "code",
   "execution_count": 31,
   "id": "d0f74e3b",
   "metadata": {
    "execution": {
     "iopub.execute_input": "2025-06-03T17:03:44.990940Z",
     "iopub.status.busy": "2025-06-03T17:03:44.990407Z",
     "iopub.status.idle": "2025-06-03T17:03:45.000255Z",
     "shell.execute_reply": "2025-06-03T17:03:44.998959Z"
    },
    "papermill": {
     "duration": 0.034504,
     "end_time": "2025-06-03T17:03:45.002053",
     "exception": false,
     "start_time": "2025-06-03T17:03:44.967549",
     "status": "completed"
    },
    "tags": []
   },
   "outputs": [
    {
     "data": {
      "text/plain": [
       "loan_status\n",
       "0    24860\n",
       "1     6826\n",
       "Name: count, dtype: int64"
      ]
     },
     "execution_count": 31,
     "metadata": {},
     "output_type": "execute_result"
    }
   ],
   "source": [
    "df['loan_status'].value_counts()"
   ]
  },
  {
   "cell_type": "code",
   "execution_count": 32,
   "id": "238f1eda",
   "metadata": {
    "execution": {
     "iopub.execute_input": "2025-06-03T17:03:45.052136Z",
     "iopub.status.busy": "2025-06-03T17:03:45.051744Z",
     "iopub.status.idle": "2025-06-03T17:03:45.190298Z",
     "shell.execute_reply": "2025-06-03T17:03:45.188995Z"
    },
    "papermill": {
     "duration": 0.166316,
     "end_time": "2025-06-03T17:03:45.192424",
     "exception": false,
     "start_time": "2025-06-03T17:03:45.026108",
     "status": "completed"
    },
    "tags": []
   },
   "outputs": [],
   "source": [
    "from sklearn.model_selection import train_test_split\n",
    "\n",
    "# Input and Output Variable\n",
    "X = df.drop(columns=['loan_status'])\n",
    "y = df['loan_status']  # Target variable (1 = default, 0 = no default)\n",
    "\n",
    "# Train-Test Split\n",
    "X_train, X_test, y_train, y_test = train_test_split(X, y, test_size=0.3, random_state=21)"
   ]
  },
  {
   "cell_type": "code",
   "execution_count": 33,
   "id": "64d69bde",
   "metadata": {
    "execution": {
     "iopub.execute_input": "2025-06-03T17:03:45.239162Z",
     "iopub.status.busy": "2025-06-03T17:03:45.238791Z",
     "iopub.status.idle": "2025-06-03T17:03:45.269493Z",
     "shell.execute_reply": "2025-06-03T17:03:45.268445Z"
    },
    "papermill": {
     "duration": 0.056361,
     "end_time": "2025-06-03T17:03:45.271160",
     "exception": false,
     "start_time": "2025-06-03T17:03:45.214799",
     "status": "completed"
    },
    "tags": []
   },
   "outputs": [
    {
     "name": "stdout",
     "output_type": "stream",
     "text": [
      "loan_status\n",
      "0    17434\n",
      "1    17434\n",
      "Name: count, dtype: int64\n"
     ]
    }
   ],
   "source": [
    "from sklearn.utils import resample\n",
    "\n",
    "df_train = pd.concat([X_train, y_train], axis=1)\n",
    "\n",
    "# Separate majority and minority classes\n",
    "default_0 = df_train[df_train['loan_status'] == 0]\n",
    "default_1 = df_train[df_train['loan_status'] == 1]\n",
    "\n",
    "# Upsample minority class\n",
    "default_1_upsampled = resample(\n",
    "    default_1,\n",
    "    replace=True,                 # Sample with replacement\n",
    "    n_samples=len(default_0),       # Match number of majority class\n",
    "    random_state=25               # For reproducibility\n",
    ")\n",
    "\n",
    "# Combine majority and upsampled minority\n",
    "df_train_oversampled = pd.concat([default_0, default_1_upsampled])\n",
    "\n",
    "# Shuffle the dataset\n",
    "df_train_oversampled = df_train_oversampled.sample(frac=1, random_state=25).reset_index(drop=True)\n",
    "\n",
    "# Check the class distribution\n",
    "print(df_train_oversampled['loan_status'].value_counts())"
   ]
  },
  {
   "cell_type": "code",
   "execution_count": 34,
   "id": "9016aeaf",
   "metadata": {
    "execution": {
     "iopub.execute_input": "2025-06-03T17:03:45.317802Z",
     "iopub.status.busy": "2025-06-03T17:03:45.317354Z",
     "iopub.status.idle": "2025-06-03T17:03:45.334617Z",
     "shell.execute_reply": "2025-06-03T17:03:45.333668Z"
    },
    "papermill": {
     "duration": 0.042631,
     "end_time": "2025-06-03T17:03:45.336223",
     "exception": false,
     "start_time": "2025-06-03T17:03:45.293592",
     "status": "completed"
    },
    "tags": []
   },
   "outputs": [
    {
     "data": {
      "text/html": [
       "<div>\n",
       "<style scoped>\n",
       "    .dataframe tbody tr th:only-of-type {\n",
       "        vertical-align: middle;\n",
       "    }\n",
       "\n",
       "    .dataframe tbody tr th {\n",
       "        vertical-align: top;\n",
       "    }\n",
       "\n",
       "    .dataframe thead th {\n",
       "        text-align: right;\n",
       "    }\n",
       "</style>\n",
       "<table border=\"1\" class=\"dataframe\">\n",
       "  <thead>\n",
       "    <tr style=\"text-align: right;\">\n",
       "      <th></th>\n",
       "      <th>person_home_ownership_OTHER</th>\n",
       "      <th>person_home_ownership_OWN</th>\n",
       "      <th>person_home_ownership_RENT</th>\n",
       "      <th>loan_intent_EDUCATION</th>\n",
       "      <th>loan_intent_HOMEIMPROVEMENT</th>\n",
       "      <th>loan_intent_MEDICAL</th>\n",
       "      <th>loan_intent_PERSONAL</th>\n",
       "      <th>loan_intent_VENTURE</th>\n",
       "      <th>loan_grade_B</th>\n",
       "      <th>loan_grade_C</th>\n",
       "      <th>...</th>\n",
       "      <th>loan_grade_G</th>\n",
       "      <th>cb_person_default_on_file_Y</th>\n",
       "      <th>person_age</th>\n",
       "      <th>person_income</th>\n",
       "      <th>person_emp_length</th>\n",
       "      <th>loan_amnt</th>\n",
       "      <th>loan_int_rate</th>\n",
       "      <th>loan_percent_income</th>\n",
       "      <th>cb_person_cred_hist_length</th>\n",
       "      <th>loan_status</th>\n",
       "    </tr>\n",
       "  </thead>\n",
       "  <tbody>\n",
       "    <tr>\n",
       "      <th>0</th>\n",
       "      <td>0</td>\n",
       "      <td>0</td>\n",
       "      <td>0</td>\n",
       "      <td>0</td>\n",
       "      <td>0</td>\n",
       "      <td>0</td>\n",
       "      <td>1</td>\n",
       "      <td>0</td>\n",
       "      <td>0</td>\n",
       "      <td>0</td>\n",
       "      <td>...</td>\n",
       "      <td>0</td>\n",
       "      <td>0</td>\n",
       "      <td>-0.746410</td>\n",
       "      <td>1.046164</td>\n",
       "      <td>0.050769</td>\n",
       "      <td>0.842575</td>\n",
       "      <td>-1.265475</td>\n",
       "      <td>-0.560817</td>\n",
       "      <td>-0.938070</td>\n",
       "      <td>0</td>\n",
       "    </tr>\n",
       "    <tr>\n",
       "      <th>1</th>\n",
       "      <td>0</td>\n",
       "      <td>0</td>\n",
       "      <td>0</td>\n",
       "      <td>0</td>\n",
       "      <td>1</td>\n",
       "      <td>0</td>\n",
       "      <td>0</td>\n",
       "      <td>0</td>\n",
       "      <td>0</td>\n",
       "      <td>0</td>\n",
       "      <td>...</td>\n",
       "      <td>0</td>\n",
       "      <td>0</td>\n",
       "      <td>0.196959</td>\n",
       "      <td>0.293276</td>\n",
       "      <td>-0.673420</td>\n",
       "      <td>0.053449</td>\n",
       "      <td>-0.987506</td>\n",
       "      <td>-0.466740</td>\n",
       "      <td>1.031984</td>\n",
       "      <td>0</td>\n",
       "    </tr>\n",
       "    <tr>\n",
       "      <th>2</th>\n",
       "      <td>0</td>\n",
       "      <td>0</td>\n",
       "      <td>0</td>\n",
       "      <td>0</td>\n",
       "      <td>0</td>\n",
       "      <td>1</td>\n",
       "      <td>0</td>\n",
       "      <td>0</td>\n",
       "      <td>0</td>\n",
       "      <td>0</td>\n",
       "      <td>...</td>\n",
       "      <td>0</td>\n",
       "      <td>1</td>\n",
       "      <td>-0.431953</td>\n",
       "      <td>-0.211848</td>\n",
       "      <td>0.050769</td>\n",
       "      <td>2.420826</td>\n",
       "      <td>1.454868</td>\n",
       "      <td>2.167437</td>\n",
       "      <td>-0.445556</td>\n",
       "      <td>1</td>\n",
       "    </tr>\n",
       "    <tr>\n",
       "      <th>3</th>\n",
       "      <td>0</td>\n",
       "      <td>0</td>\n",
       "      <td>1</td>\n",
       "      <td>0</td>\n",
       "      <td>0</td>\n",
       "      <td>0</td>\n",
       "      <td>0</td>\n",
       "      <td>1</td>\n",
       "      <td>0</td>\n",
       "      <td>1</td>\n",
       "      <td>...</td>\n",
       "      <td>0</td>\n",
       "      <td>1</td>\n",
       "      <td>0.983100</td>\n",
       "      <td>-0.427574</td>\n",
       "      <td>-0.673420</td>\n",
       "      <td>0.558490</td>\n",
       "      <td>0.761508</td>\n",
       "      <td>1.508892</td>\n",
       "      <td>0.046957</td>\n",
       "      <td>1</td>\n",
       "    </tr>\n",
       "    <tr>\n",
       "      <th>4</th>\n",
       "      <td>0</td>\n",
       "      <td>0</td>\n",
       "      <td>1</td>\n",
       "      <td>1</td>\n",
       "      <td>0</td>\n",
       "      <td>0</td>\n",
       "      <td>0</td>\n",
       "      <td>0</td>\n",
       "      <td>0</td>\n",
       "      <td>1</td>\n",
       "      <td>...</td>\n",
       "      <td>0</td>\n",
       "      <td>0</td>\n",
       "      <td>-0.903638</td>\n",
       "      <td>-0.587763</td>\n",
       "      <td>-0.673420</td>\n",
       "      <td>0.526925</td>\n",
       "      <td>0.645948</td>\n",
       "      <td>2.449670</td>\n",
       "      <td>-0.691813</td>\n",
       "      <td>1</td>\n",
       "    </tr>\n",
       "  </tbody>\n",
       "</table>\n",
       "<p>5 rows × 23 columns</p>\n",
       "</div>"
      ],
      "text/plain": [
       "   person_home_ownership_OTHER  person_home_ownership_OWN  \\\n",
       "0                            0                          0   \n",
       "1                            0                          0   \n",
       "2                            0                          0   \n",
       "3                            0                          0   \n",
       "4                            0                          0   \n",
       "\n",
       "   person_home_ownership_RENT  loan_intent_EDUCATION  \\\n",
       "0                           0                      0   \n",
       "1                           0                      0   \n",
       "2                           0                      0   \n",
       "3                           1                      0   \n",
       "4                           1                      1   \n",
       "\n",
       "   loan_intent_HOMEIMPROVEMENT  loan_intent_MEDICAL  loan_intent_PERSONAL  \\\n",
       "0                            0                    0                     1   \n",
       "1                            1                    0                     0   \n",
       "2                            0                    1                     0   \n",
       "3                            0                    0                     0   \n",
       "4                            0                    0                     0   \n",
       "\n",
       "   loan_intent_VENTURE  loan_grade_B  loan_grade_C  ...  loan_grade_G  \\\n",
       "0                    0             0             0  ...             0   \n",
       "1                    0             0             0  ...             0   \n",
       "2                    0             0             0  ...             0   \n",
       "3                    1             0             1  ...             0   \n",
       "4                    0             0             1  ...             0   \n",
       "\n",
       "   cb_person_default_on_file_Y  person_age  person_income  person_emp_length  \\\n",
       "0                            0   -0.746410       1.046164           0.050769   \n",
       "1                            0    0.196959       0.293276          -0.673420   \n",
       "2                            1   -0.431953      -0.211848           0.050769   \n",
       "3                            1    0.983100      -0.427574          -0.673420   \n",
       "4                            0   -0.903638      -0.587763          -0.673420   \n",
       "\n",
       "   loan_amnt  loan_int_rate  loan_percent_income  cb_person_cred_hist_length  \\\n",
       "0   0.842575      -1.265475            -0.560817                   -0.938070   \n",
       "1   0.053449      -0.987506            -0.466740                    1.031984   \n",
       "2   2.420826       1.454868             2.167437                   -0.445556   \n",
       "3   0.558490       0.761508             1.508892                    0.046957   \n",
       "4   0.526925       0.645948             2.449670                   -0.691813   \n",
       "\n",
       "   loan_status  \n",
       "0            0  \n",
       "1            0  \n",
       "2            1  \n",
       "3            1  \n",
       "4            1  \n",
       "\n",
       "[5 rows x 23 columns]"
      ]
     },
     "execution_count": 34,
     "metadata": {},
     "output_type": "execute_result"
    }
   ],
   "source": [
    "df_train_oversampled.head()"
   ]
  },
  {
   "cell_type": "code",
   "execution_count": 35,
   "id": "0303cfab",
   "metadata": {
    "execution": {
     "iopub.execute_input": "2025-06-03T17:03:45.383504Z",
     "iopub.status.busy": "2025-06-03T17:03:45.383113Z",
     "iopub.status.idle": "2025-06-03T17:03:45.389354Z",
     "shell.execute_reply": "2025-06-03T17:03:45.388369Z"
    },
    "papermill": {
     "duration": 0.032104,
     "end_time": "2025-06-03T17:03:45.391185",
     "exception": false,
     "start_time": "2025-06-03T17:03:45.359081",
     "status": "completed"
    },
    "tags": []
   },
   "outputs": [],
   "source": [
    "X_train = df_train_oversampled.drop(columns=['loan_status'])\n",
    "y_train = df_train_oversampled['loan_status']  # Target variable (1 = default, 0 = no default)"
   ]
  },
  {
   "cell_type": "code",
   "execution_count": 36,
   "id": "64c78392",
   "metadata": {
    "execution": {
     "iopub.execute_input": "2025-06-03T17:03:45.439254Z",
     "iopub.status.busy": "2025-06-03T17:03:45.438899Z",
     "iopub.status.idle": "2025-06-03T17:03:45.456504Z",
     "shell.execute_reply": "2025-06-03T17:03:45.455433Z"
    },
    "papermill": {
     "duration": 0.04351,
     "end_time": "2025-06-03T17:03:45.458283",
     "exception": false,
     "start_time": "2025-06-03T17:03:45.414773",
     "status": "completed"
    },
    "tags": []
   },
   "outputs": [
    {
     "data": {
      "text/html": [
       "<div>\n",
       "<style scoped>\n",
       "    .dataframe tbody tr th:only-of-type {\n",
       "        vertical-align: middle;\n",
       "    }\n",
       "\n",
       "    .dataframe tbody tr th {\n",
       "        vertical-align: top;\n",
       "    }\n",
       "\n",
       "    .dataframe thead th {\n",
       "        text-align: right;\n",
       "    }\n",
       "</style>\n",
       "<table border=\"1\" class=\"dataframe\">\n",
       "  <thead>\n",
       "    <tr style=\"text-align: right;\">\n",
       "      <th></th>\n",
       "      <th>person_home_ownership_OTHER</th>\n",
       "      <th>person_home_ownership_OWN</th>\n",
       "      <th>person_home_ownership_RENT</th>\n",
       "      <th>loan_intent_EDUCATION</th>\n",
       "      <th>loan_intent_HOMEIMPROVEMENT</th>\n",
       "      <th>loan_intent_MEDICAL</th>\n",
       "      <th>loan_intent_PERSONAL</th>\n",
       "      <th>loan_intent_VENTURE</th>\n",
       "      <th>loan_grade_B</th>\n",
       "      <th>loan_grade_C</th>\n",
       "      <th>...</th>\n",
       "      <th>loan_grade_F</th>\n",
       "      <th>loan_grade_G</th>\n",
       "      <th>cb_person_default_on_file_Y</th>\n",
       "      <th>person_age</th>\n",
       "      <th>person_income</th>\n",
       "      <th>person_emp_length</th>\n",
       "      <th>loan_amnt</th>\n",
       "      <th>loan_int_rate</th>\n",
       "      <th>loan_percent_income</th>\n",
       "      <th>cb_person_cred_hist_length</th>\n",
       "    </tr>\n",
       "  </thead>\n",
       "  <tbody>\n",
       "    <tr>\n",
       "      <th>0</th>\n",
       "      <td>0</td>\n",
       "      <td>0</td>\n",
       "      <td>0</td>\n",
       "      <td>0</td>\n",
       "      <td>0</td>\n",
       "      <td>0</td>\n",
       "      <td>1</td>\n",
       "      <td>0</td>\n",
       "      <td>0</td>\n",
       "      <td>0</td>\n",
       "      <td>...</td>\n",
       "      <td>0</td>\n",
       "      <td>0</td>\n",
       "      <td>0</td>\n",
       "      <td>-0.746410</td>\n",
       "      <td>1.046164</td>\n",
       "      <td>0.050769</td>\n",
       "      <td>0.842575</td>\n",
       "      <td>-1.265475</td>\n",
       "      <td>-0.560817</td>\n",
       "      <td>-0.938070</td>\n",
       "    </tr>\n",
       "    <tr>\n",
       "      <th>1</th>\n",
       "      <td>0</td>\n",
       "      <td>0</td>\n",
       "      <td>0</td>\n",
       "      <td>0</td>\n",
       "      <td>1</td>\n",
       "      <td>0</td>\n",
       "      <td>0</td>\n",
       "      <td>0</td>\n",
       "      <td>0</td>\n",
       "      <td>0</td>\n",
       "      <td>...</td>\n",
       "      <td>0</td>\n",
       "      <td>0</td>\n",
       "      <td>0</td>\n",
       "      <td>0.196959</td>\n",
       "      <td>0.293276</td>\n",
       "      <td>-0.673420</td>\n",
       "      <td>0.053449</td>\n",
       "      <td>-0.987506</td>\n",
       "      <td>-0.466740</td>\n",
       "      <td>1.031984</td>\n",
       "    </tr>\n",
       "    <tr>\n",
       "      <th>2</th>\n",
       "      <td>0</td>\n",
       "      <td>0</td>\n",
       "      <td>0</td>\n",
       "      <td>0</td>\n",
       "      <td>0</td>\n",
       "      <td>1</td>\n",
       "      <td>0</td>\n",
       "      <td>0</td>\n",
       "      <td>0</td>\n",
       "      <td>0</td>\n",
       "      <td>...</td>\n",
       "      <td>0</td>\n",
       "      <td>0</td>\n",
       "      <td>1</td>\n",
       "      <td>-0.431953</td>\n",
       "      <td>-0.211848</td>\n",
       "      <td>0.050769</td>\n",
       "      <td>2.420826</td>\n",
       "      <td>1.454868</td>\n",
       "      <td>2.167437</td>\n",
       "      <td>-0.445556</td>\n",
       "    </tr>\n",
       "    <tr>\n",
       "      <th>3</th>\n",
       "      <td>0</td>\n",
       "      <td>0</td>\n",
       "      <td>1</td>\n",
       "      <td>0</td>\n",
       "      <td>0</td>\n",
       "      <td>0</td>\n",
       "      <td>0</td>\n",
       "      <td>1</td>\n",
       "      <td>0</td>\n",
       "      <td>1</td>\n",
       "      <td>...</td>\n",
       "      <td>0</td>\n",
       "      <td>0</td>\n",
       "      <td>1</td>\n",
       "      <td>0.983100</td>\n",
       "      <td>-0.427574</td>\n",
       "      <td>-0.673420</td>\n",
       "      <td>0.558490</td>\n",
       "      <td>0.761508</td>\n",
       "      <td>1.508892</td>\n",
       "      <td>0.046957</td>\n",
       "    </tr>\n",
       "    <tr>\n",
       "      <th>4</th>\n",
       "      <td>0</td>\n",
       "      <td>0</td>\n",
       "      <td>1</td>\n",
       "      <td>1</td>\n",
       "      <td>0</td>\n",
       "      <td>0</td>\n",
       "      <td>0</td>\n",
       "      <td>0</td>\n",
       "      <td>0</td>\n",
       "      <td>1</td>\n",
       "      <td>...</td>\n",
       "      <td>0</td>\n",
       "      <td>0</td>\n",
       "      <td>0</td>\n",
       "      <td>-0.903638</td>\n",
       "      <td>-0.587763</td>\n",
       "      <td>-0.673420</td>\n",
       "      <td>0.526925</td>\n",
       "      <td>0.645948</td>\n",
       "      <td>2.449670</td>\n",
       "      <td>-0.691813</td>\n",
       "    </tr>\n",
       "  </tbody>\n",
       "</table>\n",
       "<p>5 rows × 22 columns</p>\n",
       "</div>"
      ],
      "text/plain": [
       "   person_home_ownership_OTHER  person_home_ownership_OWN  \\\n",
       "0                            0                          0   \n",
       "1                            0                          0   \n",
       "2                            0                          0   \n",
       "3                            0                          0   \n",
       "4                            0                          0   \n",
       "\n",
       "   person_home_ownership_RENT  loan_intent_EDUCATION  \\\n",
       "0                           0                      0   \n",
       "1                           0                      0   \n",
       "2                           0                      0   \n",
       "3                           1                      0   \n",
       "4                           1                      1   \n",
       "\n",
       "   loan_intent_HOMEIMPROVEMENT  loan_intent_MEDICAL  loan_intent_PERSONAL  \\\n",
       "0                            0                    0                     1   \n",
       "1                            1                    0                     0   \n",
       "2                            0                    1                     0   \n",
       "3                            0                    0                     0   \n",
       "4                            0                    0                     0   \n",
       "\n",
       "   loan_intent_VENTURE  loan_grade_B  loan_grade_C  ...  loan_grade_F  \\\n",
       "0                    0             0             0  ...             0   \n",
       "1                    0             0             0  ...             0   \n",
       "2                    0             0             0  ...             0   \n",
       "3                    1             0             1  ...             0   \n",
       "4                    0             0             1  ...             0   \n",
       "\n",
       "   loan_grade_G  cb_person_default_on_file_Y  person_age  person_income  \\\n",
       "0             0                            0   -0.746410       1.046164   \n",
       "1             0                            0    0.196959       0.293276   \n",
       "2             0                            1   -0.431953      -0.211848   \n",
       "3             0                            1    0.983100      -0.427574   \n",
       "4             0                            0   -0.903638      -0.587763   \n",
       "\n",
       "   person_emp_length  loan_amnt  loan_int_rate  loan_percent_income  \\\n",
       "0           0.050769   0.842575      -1.265475            -0.560817   \n",
       "1          -0.673420   0.053449      -0.987506            -0.466740   \n",
       "2           0.050769   2.420826       1.454868             2.167437   \n",
       "3          -0.673420   0.558490       0.761508             1.508892   \n",
       "4          -0.673420   0.526925       0.645948             2.449670   \n",
       "\n",
       "   cb_person_cred_hist_length  \n",
       "0                   -0.938070  \n",
       "1                    1.031984  \n",
       "2                   -0.445556  \n",
       "3                    0.046957  \n",
       "4                   -0.691813  \n",
       "\n",
       "[5 rows x 22 columns]"
      ]
     },
     "execution_count": 36,
     "metadata": {},
     "output_type": "execute_result"
    }
   ],
   "source": [
    "X_train.head()"
   ]
  },
  {
   "cell_type": "markdown",
   "id": "90940f0c",
   "metadata": {
    "papermill": {
     "duration": 0.024159,
     "end_time": "2025-06-03T17:03:45.506727",
     "exception": false,
     "start_time": "2025-06-03T17:03:45.482568",
     "status": "completed"
    },
    "tags": []
   },
   "source": [
    "## Model Training"
   ]
  },
  {
   "cell_type": "markdown",
   "id": "2cb06a5d",
   "metadata": {
    "papermill": {
     "duration": 0.022955,
     "end_time": "2025-06-03T17:03:45.553813",
     "exception": false,
     "start_time": "2025-06-03T17:03:45.530858",
     "status": "completed"
    },
    "tags": []
   },
   "source": [
    "### Using LogisticRegression"
   ]
  },
  {
   "cell_type": "code",
   "execution_count": 37,
   "id": "55382281",
   "metadata": {
    "execution": {
     "iopub.execute_input": "2025-06-03T17:03:45.603328Z",
     "iopub.status.busy": "2025-06-03T17:03:45.602995Z",
     "iopub.status.idle": "2025-06-03T17:03:45.970989Z",
     "shell.execute_reply": "2025-06-03T17:03:45.969838Z"
    },
    "papermill": {
     "duration": 0.396203,
     "end_time": "2025-06-03T17:03:45.973023",
     "exception": false,
     "start_time": "2025-06-03T17:03:45.576820",
     "status": "completed"
    },
    "tags": []
   },
   "outputs": [
    {
     "name": "stdout",
     "output_type": "stream",
     "text": [
      "Accuracy: 0.81\n"
     ]
    }
   ],
   "source": [
    "from sklearn.linear_model import LogisticRegression\n",
    "from sklearn.metrics import accuracy_score\n",
    "import pickle\n",
    "\n",
    "# Train the PD model\n",
    "model = LogisticRegression()\n",
    "model.fit(X_train, y_train)\n",
    "\n",
    "# Predict\n",
    "y_pred = model.predict(X_test)\n",
    "\n",
    "# Evaluate\n",
    "accuracy = accuracy_score(y_test, y_pred)\n",
    "print(f\"Accuracy: {accuracy:.2f}\")"
   ]
  },
  {
   "cell_type": "markdown",
   "id": "60b9bf4c",
   "metadata": {
    "papermill": {
     "duration": 0.023652,
     "end_time": "2025-06-03T17:03:46.020897",
     "exception": false,
     "start_time": "2025-06-03T17:03:45.997245",
     "status": "completed"
    },
    "tags": []
   },
   "source": [
    "### Using XGBoost"
   ]
  },
  {
   "cell_type": "code",
   "execution_count": 38,
   "id": "d67e8fe7",
   "metadata": {
    "execution": {
     "iopub.execute_input": "2025-06-03T17:03:46.069732Z",
     "iopub.status.busy": "2025-06-03T17:03:46.069316Z",
     "iopub.status.idle": "2025-06-03T17:03:46.601608Z",
     "shell.execute_reply": "2025-06-03T17:03:46.599260Z"
    },
    "papermill": {
     "duration": 0.559729,
     "end_time": "2025-06-03T17:03:46.603870",
     "exception": false,
     "start_time": "2025-06-03T17:03:46.044141",
     "status": "completed"
    },
    "tags": []
   },
   "outputs": [
    {
     "name": "stdout",
     "output_type": "stream",
     "text": [
      "Accuracy: 0.89\n"
     ]
    }
   ],
   "source": [
    "import xgboost as xgb\n",
    "\n",
    "# Train XGBoost model\n",
    "model = xgb.XGBClassifier(n_estimators=100, max_depth=3, learning_rate=0.1, use_label_encoder=False)\n",
    "model.fit(X_train, y_train)\n",
    "\n",
    "# Predict\n",
    "y_pred = model.predict(X_test)\n",
    "\n",
    "# Evaluate\n",
    "accuracy = accuracy_score(y_test, y_pred)\n",
    "print(f\"Accuracy: {accuracy:.2f}\")"
   ]
  },
  {
   "cell_type": "markdown",
   "id": "a2fec0d8",
   "metadata": {
    "papermill": {
     "duration": 0.022923,
     "end_time": "2025-06-03T17:03:46.651922",
     "exception": false,
     "start_time": "2025-06-03T17:03:46.628999",
     "status": "completed"
    },
    "tags": []
   },
   "source": [
    "**We see that XGBoost performs much better than LogisticRegression in predicting default**."
   ]
  },
  {
   "cell_type": "code",
   "execution_count": null,
   "id": "fc047ab8",
   "metadata": {
    "papermill": {
     "duration": 0.031412,
     "end_time": "2025-06-03T17:03:46.706281",
     "exception": false,
     "start_time": "2025-06-03T17:03:46.674869",
     "status": "completed"
    },
    "tags": []
   },
   "outputs": [],
   "source": []
  }
 ],
 "metadata": {
  "kaggle": {
   "accelerator": "none",
   "dataSources": [
    {
     "datasetId": 688532,
     "sourceId": 1207035,
     "sourceType": "datasetVersion"
    }
   ],
   "dockerImageVersionId": 30918,
   "isGpuEnabled": false,
   "isInternetEnabled": true,
   "language": "python",
   "sourceType": "notebook"
  },
  "kernelspec": {
   "display_name": "Python 3",
   "language": "python",
   "name": "python3"
  },
  "language_info": {
   "codemirror_mode": {
    "name": "ipython",
    "version": 3
   },
   "file_extension": ".py",
   "mimetype": "text/x-python",
   "name": "python",
   "nbconvert_exporter": "python",
   "pygments_lexer": "ipython3",
   "version": "3.10.12"
  },
  "papermill": {
   "default_parameters": {},
   "duration": 15.599393,
   "end_time": "2025-06-03T17:03:47.562224",
   "environment_variables": {},
   "exception": null,
   "input_path": "__notebook__.ipynb",
   "output_path": "__notebook__.ipynb",
   "parameters": {},
   "start_time": "2025-06-03T17:03:31.962831",
   "version": "2.6.0"
  }
 },
 "nbformat": 4,
 "nbformat_minor": 5
}
